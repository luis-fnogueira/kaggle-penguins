{
 "cells": [
  {
   "cell_type": "code",
   "execution_count": 1,
   "id": "07e47701",
   "metadata": {
    "_cell_guid": "b1076dfc-b9ad-4769-8c92-a6c4dae69d19",
    "_uuid": "8f2839f25d086af736a60e9eeb907d3b93b6e0e5",
    "execution": {
     "iopub.execute_input": "2022-04-07T00:03:39.477510Z",
     "iopub.status.busy": "2022-04-07T00:03:39.472247Z",
     "iopub.status.idle": "2022-04-07T00:03:40.537874Z",
     "shell.execute_reply": "2022-04-07T00:03:40.538589Z",
     "shell.execute_reply.started": "2022-04-06T23:51:39.117954Z"
    },
    "papermill": {
     "duration": 1.09915,
     "end_time": "2022-04-07T00:03:40.538997",
     "exception": false,
     "start_time": "2022-04-07T00:03:39.439847",
     "status": "completed"
    },
    "tags": []
   },
   "outputs": [
    {
     "name": "stdout",
     "output_type": "stream",
     "text": [
      "/kaggle/input/palmer-archipelago-antarctica-penguin-data/penguins_size.csv\n",
      "/kaggle/input/palmer-archipelago-antarctica-penguin-data/penguins_lter.csv\n"
     ]
    }
   ],
   "source": [
    "# This Python 3 environment comes with many helpful analytics libraries installed\n",
    "# It is defined by the kaggle/python Docker image: https://github.com/kaggle/docker-python\n",
    "# For example, here's several helpful packages to load\n",
    "\n",
    "import numpy as np # linear algebra\n",
    "import pandas as pd # data processing, CSV file I/O (e.g. pd.read_csv)\n",
    "%matplotlib inline\n",
    "import seaborn as sns\n",
    "\n",
    "# Setting the float precision to 2 decimal places.\n",
    "\n",
    "pd.set_option(\"precision\", 2)\n",
    "pd.options.display.float_format = '{:.2f}'.format\n",
    "\n",
    "# Input data files are available in the read-only \"../input/\" directory\n",
    "# For example, running this (by clicking run or pressing Shift+Enter) will list all files under the input directory\n",
    "\n",
    "import os\n",
    "for dirname, _, filenames in os.walk('/kaggle/input'):\n",
    "    for filename in filenames:\n",
    "        print(os.path.join(dirname, filename))\n",
    "\n",
    "# You can write up to 20GB to the current directory (/kaggle/working/) that gets preserved as output when you create a version using \"Save & Run All\" \n",
    "# You can also write temporary files to /kaggle/temp/, but they won't be saved outside of the current session"
   ]
  },
  {
   "cell_type": "markdown",
   "id": "71a445cd",
   "metadata": {
    "papermill": {
     "duration": 0.022534,
     "end_time": "2022-04-07T00:03:40.585873",
     "exception": false,
     "start_time": "2022-04-07T00:03:40.563339",
     "status": "completed"
    },
    "tags": []
   },
   "source": [
    "# Inputting the data \n",
    "\n",
    "We are going to use the penguins_size.csv because it is a simplified dataset, as written in the description on Kaggle."
   ]
  },
  {
   "cell_type": "code",
   "execution_count": 2,
   "id": "841890f0",
   "metadata": {
    "execution": {
     "iopub.execute_input": "2022-04-07T00:03:40.635097Z",
     "iopub.status.busy": "2022-04-07T00:03:40.634466Z",
     "iopub.status.idle": "2022-04-07T00:03:40.651451Z",
     "shell.execute_reply": "2022-04-07T00:03:40.650770Z",
     "shell.execute_reply.started": "2022-04-06T23:51:40.254715Z"
    },
    "papermill": {
     "duration": 0.042783,
     "end_time": "2022-04-07T00:03:40.651598",
     "exception": false,
     "start_time": "2022-04-07T00:03:40.608815",
     "status": "completed"
    },
    "tags": []
   },
   "outputs": [],
   "source": [
    "df_size = pd.read_csv('/kaggle/input/palmer-archipelago-antarctica-penguin-data/penguins_size.csv')"
   ]
  },
  {
   "cell_type": "markdown",
   "id": "993bf6a1",
   "metadata": {
    "papermill": {
     "duration": 0.022415,
     "end_time": "2022-04-07T00:03:40.697458",
     "exception": false,
     "start_time": "2022-04-07T00:03:40.675043",
     "status": "completed"
    },
    "tags": []
   },
   "source": [
    "# First glances on the dataset\n",
    "\n",
    "Let's have an overview of the dataset."
   ]
  },
  {
   "cell_type": "code",
   "execution_count": 3,
   "id": "44f8a88e",
   "metadata": {
    "execution": {
     "iopub.execute_input": "2022-04-07T00:03:40.751809Z",
     "iopub.status.busy": "2022-04-07T00:03:40.751073Z",
     "iopub.status.idle": "2022-04-07T00:03:40.764861Z",
     "shell.execute_reply": "2022-04-07T00:03:40.765346Z",
     "shell.execute_reply.started": "2022-04-06T23:51:40.271578Z"
    },
    "papermill": {
     "duration": 0.045376,
     "end_time": "2022-04-07T00:03:40.765534",
     "exception": false,
     "start_time": "2022-04-07T00:03:40.720158",
     "status": "completed"
    },
    "tags": []
   },
   "outputs": [
    {
     "data": {
      "text/html": [
       "<div>\n",
       "<style scoped>\n",
       "    .dataframe tbody tr th:only-of-type {\n",
       "        vertical-align: middle;\n",
       "    }\n",
       "\n",
       "    .dataframe tbody tr th {\n",
       "        vertical-align: top;\n",
       "    }\n",
       "\n",
       "    .dataframe thead th {\n",
       "        text-align: right;\n",
       "    }\n",
       "</style>\n",
       "<table border=\"1\" class=\"dataframe\">\n",
       "  <thead>\n",
       "    <tr style=\"text-align: right;\">\n",
       "      <th></th>\n",
       "      <th>species</th>\n",
       "      <th>island</th>\n",
       "      <th>culmen_length_mm</th>\n",
       "      <th>culmen_depth_mm</th>\n",
       "      <th>flipper_length_mm</th>\n",
       "      <th>body_mass_g</th>\n",
       "      <th>sex</th>\n",
       "    </tr>\n",
       "  </thead>\n",
       "  <tbody>\n",
       "    <tr>\n",
       "      <th>0</th>\n",
       "      <td>Adelie</td>\n",
       "      <td>Torgersen</td>\n",
       "      <td>39.10</td>\n",
       "      <td>18.70</td>\n",
       "      <td>181.00</td>\n",
       "      <td>3750.00</td>\n",
       "      <td>MALE</td>\n",
       "    </tr>\n",
       "    <tr>\n",
       "      <th>1</th>\n",
       "      <td>Adelie</td>\n",
       "      <td>Torgersen</td>\n",
       "      <td>39.50</td>\n",
       "      <td>17.40</td>\n",
       "      <td>186.00</td>\n",
       "      <td>3800.00</td>\n",
       "      <td>FEMALE</td>\n",
       "    </tr>\n",
       "    <tr>\n",
       "      <th>2</th>\n",
       "      <td>Adelie</td>\n",
       "      <td>Torgersen</td>\n",
       "      <td>40.30</td>\n",
       "      <td>18.00</td>\n",
       "      <td>195.00</td>\n",
       "      <td>3250.00</td>\n",
       "      <td>FEMALE</td>\n",
       "    </tr>\n",
       "    <tr>\n",
       "      <th>3</th>\n",
       "      <td>Adelie</td>\n",
       "      <td>Torgersen</td>\n",
       "      <td>NaN</td>\n",
       "      <td>NaN</td>\n",
       "      <td>NaN</td>\n",
       "      <td>NaN</td>\n",
       "      <td>NaN</td>\n",
       "    </tr>\n",
       "    <tr>\n",
       "      <th>4</th>\n",
       "      <td>Adelie</td>\n",
       "      <td>Torgersen</td>\n",
       "      <td>36.70</td>\n",
       "      <td>19.30</td>\n",
       "      <td>193.00</td>\n",
       "      <td>3450.00</td>\n",
       "      <td>FEMALE</td>\n",
       "    </tr>\n",
       "  </tbody>\n",
       "</table>\n",
       "</div>"
      ],
      "text/plain": [
       "  species     island  culmen_length_mm  culmen_depth_mm  flipper_length_mm  \\\n",
       "0  Adelie  Torgersen             39.10            18.70             181.00   \n",
       "1  Adelie  Torgersen             39.50            17.40             186.00   \n",
       "2  Adelie  Torgersen             40.30            18.00             195.00   \n",
       "3  Adelie  Torgersen               NaN              NaN                NaN   \n",
       "4  Adelie  Torgersen             36.70            19.30             193.00   \n",
       "\n",
       "   body_mass_g     sex  \n",
       "0      3750.00    MALE  \n",
       "1      3800.00  FEMALE  \n",
       "2      3250.00  FEMALE  \n",
       "3          NaN     NaN  \n",
       "4      3450.00  FEMALE  "
      ]
     },
     "execution_count": 3,
     "metadata": {},
     "output_type": "execute_result"
    }
   ],
   "source": [
    "df_size.head()"
   ]
  },
  {
   "cell_type": "markdown",
   "id": "8e9e9ae1",
   "metadata": {
    "papermill": {
     "duration": 0.02278,
     "end_time": "2022-04-07T00:03:40.811562",
     "exception": false,
     "start_time": "2022-04-07T00:03:40.788782",
     "status": "completed"
    },
    "tags": []
   },
   "source": [
    "One can notice that we have mainly information about penguins' culmen and flipper. It's also noticeable that we have a few NaN values, now we are going to have a deeper dive on the dataset."
   ]
  },
  {
   "cell_type": "markdown",
   "id": "595b91f9",
   "metadata": {
    "papermill": {
     "duration": 0.022657,
     "end_time": "2022-04-07T00:03:40.857469",
     "exception": false,
     "start_time": "2022-04-07T00:03:40.834812",
     "status": "completed"
    },
    "tags": []
   },
   "source": [
    "# Which columns does have NaN values?"
   ]
  },
  {
   "cell_type": "code",
   "execution_count": 4,
   "id": "f7961c06",
   "metadata": {
    "execution": {
     "iopub.execute_input": "2022-04-07T00:03:40.906683Z",
     "iopub.status.busy": "2022-04-07T00:03:40.906045Z",
     "iopub.status.idle": "2022-04-07T00:03:40.913075Z",
     "shell.execute_reply": "2022-04-07T00:03:40.913593Z",
     "shell.execute_reply.started": "2022-04-06T23:51:40.296768Z"
    },
    "papermill": {
     "duration": 0.033244,
     "end_time": "2022-04-07T00:03:40.913774",
     "exception": false,
     "start_time": "2022-04-07T00:03:40.880530",
     "status": "completed"
    },
    "tags": []
   },
   "outputs": [
    {
     "data": {
      "text/plain": [
       "species               0\n",
       "island                0\n",
       "culmen_length_mm      2\n",
       "culmen_depth_mm       2\n",
       "flipper_length_mm     2\n",
       "body_mass_g           2\n",
       "sex                  10\n",
       "dtype: int64"
      ]
     },
     "execution_count": 4,
     "metadata": {},
     "output_type": "execute_result"
    }
   ],
   "source": [
    "df_size.isnull().sum()"
   ]
  },
  {
   "cell_type": "code",
   "execution_count": 5,
   "id": "4912801b",
   "metadata": {
    "execution": {
     "iopub.execute_input": "2022-04-07T00:03:40.965581Z",
     "iopub.status.busy": "2022-04-07T00:03:40.964896Z",
     "iopub.status.idle": "2022-04-07T00:03:40.993511Z",
     "shell.execute_reply": "2022-04-07T00:03:40.994106Z",
     "shell.execute_reply.started": "2022-04-06T23:51:40.306768Z"
    },
    "papermill": {
     "duration": 0.0556,
     "end_time": "2022-04-07T00:03:40.994275",
     "exception": false,
     "start_time": "2022-04-07T00:03:40.938675",
     "status": "completed"
    },
    "tags": []
   },
   "outputs": [
    {
     "data": {
      "text/html": [
       "<div>\n",
       "<style scoped>\n",
       "    .dataframe tbody tr th:only-of-type {\n",
       "        vertical-align: middle;\n",
       "    }\n",
       "\n",
       "    .dataframe tbody tr th {\n",
       "        vertical-align: top;\n",
       "    }\n",
       "\n",
       "    .dataframe thead th {\n",
       "        text-align: right;\n",
       "    }\n",
       "</style>\n",
       "<table border=\"1\" class=\"dataframe\">\n",
       "  <thead>\n",
       "    <tr style=\"text-align: right;\">\n",
       "      <th></th>\n",
       "      <th>culmen_length_mm</th>\n",
       "      <th>culmen_depth_mm</th>\n",
       "      <th>flipper_length_mm</th>\n",
       "      <th>body_mass_g</th>\n",
       "    </tr>\n",
       "  </thead>\n",
       "  <tbody>\n",
       "    <tr>\n",
       "      <th>count</th>\n",
       "      <td>342.00</td>\n",
       "      <td>342.00</td>\n",
       "      <td>342.00</td>\n",
       "      <td>342.00</td>\n",
       "    </tr>\n",
       "    <tr>\n",
       "      <th>mean</th>\n",
       "      <td>43.92</td>\n",
       "      <td>17.15</td>\n",
       "      <td>200.92</td>\n",
       "      <td>4201.75</td>\n",
       "    </tr>\n",
       "    <tr>\n",
       "      <th>std</th>\n",
       "      <td>5.46</td>\n",
       "      <td>1.97</td>\n",
       "      <td>14.06</td>\n",
       "      <td>801.95</td>\n",
       "    </tr>\n",
       "    <tr>\n",
       "      <th>min</th>\n",
       "      <td>32.10</td>\n",
       "      <td>13.10</td>\n",
       "      <td>172.00</td>\n",
       "      <td>2700.00</td>\n",
       "    </tr>\n",
       "    <tr>\n",
       "      <th>25%</th>\n",
       "      <td>39.23</td>\n",
       "      <td>15.60</td>\n",
       "      <td>190.00</td>\n",
       "      <td>3550.00</td>\n",
       "    </tr>\n",
       "    <tr>\n",
       "      <th>50%</th>\n",
       "      <td>44.45</td>\n",
       "      <td>17.30</td>\n",
       "      <td>197.00</td>\n",
       "      <td>4050.00</td>\n",
       "    </tr>\n",
       "    <tr>\n",
       "      <th>75%</th>\n",
       "      <td>48.50</td>\n",
       "      <td>18.70</td>\n",
       "      <td>213.00</td>\n",
       "      <td>4750.00</td>\n",
       "    </tr>\n",
       "    <tr>\n",
       "      <th>max</th>\n",
       "      <td>59.60</td>\n",
       "      <td>21.50</td>\n",
       "      <td>231.00</td>\n",
       "      <td>6300.00</td>\n",
       "    </tr>\n",
       "  </tbody>\n",
       "</table>\n",
       "</div>"
      ],
      "text/plain": [
       "       culmen_length_mm  culmen_depth_mm  flipper_length_mm  body_mass_g\n",
       "count            342.00           342.00             342.00       342.00\n",
       "mean              43.92            17.15             200.92      4201.75\n",
       "std                5.46             1.97              14.06       801.95\n",
       "min               32.10            13.10             172.00      2700.00\n",
       "25%               39.23            15.60             190.00      3550.00\n",
       "50%               44.45            17.30             197.00      4050.00\n",
       "75%               48.50            18.70             213.00      4750.00\n",
       "max               59.60            21.50             231.00      6300.00"
      ]
     },
     "execution_count": 5,
     "metadata": {},
     "output_type": "execute_result"
    }
   ],
   "source": [
    "df_size.describe()"
   ]
  },
  {
   "cell_type": "markdown",
   "id": "a334a3c3",
   "metadata": {
    "papermill": {
     "duration": 0.02486,
     "end_time": "2022-04-07T00:03:41.043733",
     "exception": false,
     "start_time": "2022-04-07T00:03:41.018873",
     "status": "completed"
    },
    "tags": []
   },
   "source": [
    "As we have only a few missing values we are going to drop those lines."
   ]
  },
  {
   "cell_type": "code",
   "execution_count": 6,
   "id": "d6924299",
   "metadata": {
    "execution": {
     "iopub.execute_input": "2022-04-07T00:03:41.099593Z",
     "iopub.status.busy": "2022-04-07T00:03:41.098915Z",
     "iopub.status.idle": "2022-04-07T00:03:41.108911Z",
     "shell.execute_reply": "2022-04-07T00:03:41.109465Z",
     "shell.execute_reply.started": "2022-04-06T23:51:40.347619Z"
    },
    "papermill": {
     "duration": 0.040131,
     "end_time": "2022-04-07T00:03:41.109656",
     "exception": false,
     "start_time": "2022-04-07T00:03:41.069525",
     "status": "completed"
    },
    "tags": []
   },
   "outputs": [
    {
     "data": {
      "text/plain": [
       "species              0\n",
       "island               0\n",
       "culmen_length_mm     0\n",
       "culmen_depth_mm      0\n",
       "flipper_length_mm    0\n",
       "body_mass_g          0\n",
       "sex                  0\n",
       "dtype: int64"
      ]
     },
     "execution_count": 6,
     "metadata": {},
     "output_type": "execute_result"
    }
   ],
   "source": [
    "df_size.dropna(inplace=True)\n",
    "\n",
    "# Checking if we truly have no missing values anymore\n",
    "\n",
    "df_size.isnull().sum()"
   ]
  },
  {
   "cell_type": "markdown",
   "id": "1541bfc5",
   "metadata": {
    "papermill": {
     "duration": 0.024575,
     "end_time": "2022-04-07T00:03:41.160696",
     "exception": false,
     "start_time": "2022-04-07T00:03:41.136121",
     "status": "completed"
    },
    "tags": []
   },
   "source": [
    "# How many different species does the dataset have?"
   ]
  },
  {
   "cell_type": "code",
   "execution_count": 7,
   "id": "a669334d",
   "metadata": {
    "execution": {
     "iopub.execute_input": "2022-04-07T00:03:41.213728Z",
     "iopub.status.busy": "2022-04-07T00:03:41.213042Z",
     "iopub.status.idle": "2022-04-07T00:03:41.220215Z",
     "shell.execute_reply": "2022-04-07T00:03:41.220804Z",
     "shell.execute_reply.started": "2022-04-06T23:51:40.360942Z"
    },
    "papermill": {
     "duration": 0.035425,
     "end_time": "2022-04-07T00:03:41.220978",
     "exception": false,
     "start_time": "2022-04-07T00:03:41.185553",
     "status": "completed"
    },
    "tags": []
   },
   "outputs": [
    {
     "data": {
      "text/plain": [
       "Adelie       146\n",
       "Gentoo       120\n",
       "Chinstrap     68\n",
       "Name: species, dtype: int64"
      ]
     },
     "execution_count": 7,
     "metadata": {},
     "output_type": "execute_result"
    }
   ],
   "source": [
    "df_size['species'].value_counts()"
   ]
  },
  {
   "cell_type": "code",
   "execution_count": 8,
   "id": "5014fe83",
   "metadata": {
    "execution": {
     "iopub.execute_input": "2022-04-07T00:03:41.274643Z",
     "iopub.status.busy": "2022-04-07T00:03:41.273947Z",
     "iopub.status.idle": "2022-04-07T00:03:41.280297Z",
     "shell.execute_reply": "2022-04-07T00:03:41.280906Z",
     "shell.execute_reply.started": "2022-04-06T23:51:40.375408Z"
    },
    "papermill": {
     "duration": 0.03489,
     "end_time": "2022-04-07T00:03:41.281079",
     "exception": false,
     "start_time": "2022-04-07T00:03:41.246189",
     "status": "completed"
    },
    "tags": []
   },
   "outputs": [
    {
     "data": {
      "text/plain": [
       "Adelie      0.44\n",
       "Gentoo      0.36\n",
       "Chinstrap   0.20\n",
       "Name: species, dtype: float64"
      ]
     },
     "execution_count": 8,
     "metadata": {},
     "output_type": "execute_result"
    }
   ],
   "source": [
    "df_size['species'].value_counts(normalize=True)"
   ]
  },
  {
   "cell_type": "markdown",
   "id": "875e6435",
   "metadata": {
    "papermill": {
     "duration": 0.025018,
     "end_time": "2022-04-07T00:03:41.331646",
     "exception": false,
     "start_time": "2022-04-07T00:03:41.306628",
     "status": "completed"
    },
    "tags": []
   },
   "source": [
    "There are 3 different species on the dataset, which almost half is from the Adelie specie."
   ]
  },
  {
   "cell_type": "markdown",
   "id": "3aad9fd8",
   "metadata": {
    "papermill": {
     "duration": 0.025031,
     "end_time": "2022-04-07T00:03:41.382126",
     "exception": false,
     "start_time": "2022-04-07T00:03:41.357095",
     "status": "completed"
    },
    "tags": []
   },
   "source": [
    "# Does the culmen length grows according to the body mass?"
   ]
  },
  {
   "cell_type": "code",
   "execution_count": 9,
   "id": "063db8f2",
   "metadata": {
    "execution": {
     "iopub.execute_input": "2022-04-07T00:03:41.436151Z",
     "iopub.status.busy": "2022-04-07T00:03:41.435511Z",
     "iopub.status.idle": "2022-04-07T00:03:43.923295Z",
     "shell.execute_reply": "2022-04-07T00:03:43.923889Z",
     "shell.execute_reply.started": "2022-04-06T23:51:40.389268Z"
    },
    "papermill": {
     "duration": 2.516454,
     "end_time": "2022-04-07T00:03:43.924063",
     "exception": false,
     "start_time": "2022-04-07T00:03:41.407609",
     "status": "completed"
    },
    "tags": []
   },
   "outputs": [
    {
     "data": {
      "text/plain": [
       "<AxesSubplot:xlabel='body_mass_g', ylabel='culmen_length_mm'>"
      ]
     },
     "execution_count": 9,
     "metadata": {},
     "output_type": "execute_result"
    },
    {
     "data": {
      "image/png": "[encoded data removed]",
      "text/plain": [
       "<Figure size 432x288 with 1 Axes>"
      ]
     },
     "metadata": {},
     "output_type": "display_data"
    }
   ],
   "source": [
    "sns.set_theme(style=\"whitegrid\")\n",
    "\n",
    "\n",
    "\n",
    "sns.lineplot(x=df_size['body_mass_g'],y=df_size['culmen_length_mm'], \\\n",
    "             palette=\"tab10\", linewidth=2.5)"
   ]
  },
  {
   "cell_type": "markdown",
   "id": "f0fc836c",
   "metadata": {
    "papermill": {
     "duration": 0.02723,
     "end_time": "2022-04-07T00:03:43.979592",
     "exception": false,
     "start_time": "2022-04-07T00:03:43.952362",
     "status": "completed"
    },
    "tags": []
   },
   "source": [
    "We can see a slight relation between these two variables, but it's not linear."
   ]
  },
  {
   "cell_type": "markdown",
   "id": "bf65b605",
   "metadata": {
    "papermill": {
     "duration": 0.027212,
     "end_time": "2022-04-07T00:03:44.034277",
     "exception": false,
     "start_time": "2022-04-07T00:03:44.007065",
     "status": "completed"
    },
    "tags": []
   },
   "source": [
    "# How's the body mass according to sex?"
   ]
  },
  {
   "cell_type": "code",
   "execution_count": 10,
   "id": "e930a4b8",
   "metadata": {
    "execution": {
     "iopub.execute_input": "2022-04-07T00:03:44.097899Z",
     "iopub.status.busy": "2022-04-07T00:03:44.093077Z",
     "iopub.status.idle": "2022-04-07T00:03:44.307131Z",
     "shell.execute_reply": "2022-04-07T00:03:44.307635Z",
     "shell.execute_reply.started": "2022-04-06T23:51:42.201683Z"
    },
    "papermill": {
     "duration": 0.245237,
     "end_time": "2022-04-07T00:03:44.307847",
     "exception": false,
     "start_time": "2022-04-07T00:03:44.062610",
     "status": "completed"
    },
    "tags": []
   },
   "outputs": [
    {
     "data": {
      "text/plain": [
       "<AxesSubplot:xlabel='sex', ylabel='body_mass_g'>"
      ]
     },
     "execution_count": 10,
     "metadata": {},
     "output_type": "execute_result"
    },
    {
     "data": {
      "image/png": "[encoded data removed]",
      "text/plain": [
       "<Figure size 432x288 with 1 Axes>"
      ]
     },
     "metadata": {},
     "output_type": "display_data"
    }
   ],
   "source": [
    "\n",
    "sex = ['MALE', 'FEMALE'] \n",
    "    \n",
    "# selecting rows based on condition \n",
    "df_sex = df_size.loc[df_size['sex'].isin(sex)] \n",
    "    \n",
    "sns.boxplot(x=df_sex[\"sex\"], y=df_sex[\"body_mass_g\"],\n",
    "             palette=[\"m\", \"g\"])"
   ]
  },
  {
   "cell_type": "code",
   "execution_count": 11,
   "id": "8313fd83",
   "metadata": {
    "execution": {
     "iopub.execute_input": "2022-04-07T00:03:44.369519Z",
     "iopub.status.busy": "2022-04-07T00:03:44.368870Z",
     "iopub.status.idle": "2022-04-07T00:03:44.378984Z",
     "shell.execute_reply": "2022-04-07T00:03:44.378470Z",
     "shell.execute_reply.started": "2022-04-06T23:51:42.406855Z"
    },
    "papermill": {
     "duration": 0.04231,
     "end_time": "2022-04-07T00:03:44.379121",
     "exception": false,
     "start_time": "2022-04-07T00:03:44.336811",
     "status": "completed"
    },
    "tags": []
   },
   "outputs": [
    {
     "data": {
      "text/plain": [
       "count    168.00\n",
       "mean    4545.68\n",
       "std      787.63\n",
       "min     3250.00\n",
       "25%     3900.00\n",
       "50%     4300.00\n",
       "75%     5312.50\n",
       "max     6300.00\n",
       "Name: body_mass_g, dtype: float64"
      ]
     },
     "execution_count": 11,
     "metadata": {},
     "output_type": "execute_result"
    }
   ],
   "source": [
    "df_male = df_sex.loc[df_size['sex']=='MALE']\n",
    "\n",
    "df_male['body_mass_g'].describe()"
   ]
  },
  {
   "cell_type": "code",
   "execution_count": 12,
   "id": "13ccae2e",
   "metadata": {
    "execution": {
     "iopub.execute_input": "2022-04-07T00:03:44.444965Z",
     "iopub.status.busy": "2022-04-07T00:03:44.444269Z",
     "iopub.status.idle": "2022-04-07T00:03:44.450936Z",
     "shell.execute_reply": "2022-04-07T00:03:44.451444Z",
     "shell.execute_reply.started": "2022-04-06T23:51:42.426729Z"
    },
    "papermill": {
     "duration": 0.043004,
     "end_time": "2022-04-07T00:03:44.451615",
     "exception": false,
     "start_time": "2022-04-07T00:03:44.408611",
     "status": "completed"
    },
    "tags": []
   },
   "outputs": [
    {
     "data": {
      "text/plain": [
       "count    165.00\n",
       "mean    3862.27\n",
       "std      666.17\n",
       "min     2700.00\n",
       "25%     3350.00\n",
       "50%     3650.00\n",
       "75%     4550.00\n",
       "max     5200.00\n",
       "Name: body_mass_g, dtype: float64"
      ]
     },
     "execution_count": 12,
     "metadata": {},
     "output_type": "execute_result"
    }
   ],
   "source": [
    "df_female = df_sex.loc[df_size['sex']=='FEMALE']\n",
    "\n",
    "df_female['body_mass_g'].describe()"
   ]
  },
  {
   "cell_type": "markdown",
   "id": "47e61b59",
   "metadata": {
    "papermill": {
     "duration": 0.029634,
     "end_time": "2022-04-07T00:03:44.511322",
     "exception": false,
     "start_time": "2022-04-07T00:03:44.481688",
     "status": "completed"
    },
    "tags": []
   },
   "source": [
    "### One can understand that there is a considerable difference between female and male body mass.\n",
    "\n",
    "About 25% of male penguins weighs more than the maximum of females penguins."
   ]
  },
  {
   "cell_type": "markdown",
   "id": "207a3224",
   "metadata": {
    "papermill": {
     "duration": 0.03012,
     "end_time": "2022-04-07T00:03:44.571683",
     "exception": false,
     "start_time": "2022-04-07T00:03:44.541563",
     "status": "completed"
    },
    "tags": []
   },
   "source": [
    "# Flipper length"
   ]
  },
  {
   "cell_type": "code",
   "execution_count": 13,
   "id": "623f6db9",
   "metadata": {
    "execution": {
     "iopub.execute_input": "2022-04-07T00:03:44.635455Z",
     "iopub.status.busy": "2022-04-07T00:03:44.634762Z",
     "iopub.status.idle": "2022-04-07T00:03:44.638104Z",
     "shell.execute_reply": "2022-04-07T00:03:44.638652Z",
     "shell.execute_reply.started": "2022-04-06T23:57:27.472292Z"
    },
    "papermill": {
     "duration": 0.03668,
     "end_time": "2022-04-07T00:03:44.638829",
     "exception": false,
     "start_time": "2022-04-07T00:03:44.602149",
     "status": "completed"
    },
    "tags": []
   },
   "outputs": [],
   "source": [
    "df_flipper = df_size.copy()"
   ]
  },
  {
   "cell_type": "markdown",
   "id": "c0c5f1fd",
   "metadata": {
    "papermill": {
     "duration": 0.02928,
     "end_time": "2022-04-07T00:03:44.697655",
     "exception": false,
     "start_time": "2022-04-07T00:03:44.668375",
     "status": "completed"
    },
    "tags": []
   },
   "source": [
    "### Let's understand the distribution of flipper length according to sex"
   ]
  },
  {
   "cell_type": "code",
   "execution_count": 14,
   "id": "5b8b5ecd",
   "metadata": {
    "execution": {
     "iopub.execute_input": "2022-04-07T00:03:44.759828Z",
     "iopub.status.busy": "2022-04-07T00:03:44.759171Z",
     "iopub.status.idle": "2022-04-07T00:03:44.973812Z",
     "shell.execute_reply": "2022-04-07T00:03:44.973213Z",
     "shell.execute_reply.started": "2022-04-07T00:01:34.871530Z"
    },
    "papermill": {
     "duration": 0.246839,
     "end_time": "2022-04-07T00:03:44.973963",
     "exception": false,
     "start_time": "2022-04-07T00:03:44.727124",
     "status": "completed"
    },
    "tags": []
   },
   "outputs": [
    {
     "data": {
      "text/plain": [
       "<AxesSubplot:xlabel='sex', ylabel='flipper_length_mm'>"
      ]
     },
     "execution_count": 14,
     "metadata": {},
     "output_type": "execute_result"
    },
    {
     "data": {
      "image/png": "[encoded data removed]",
      "text/plain": [
       "<Figure size 432x288 with 1 Axes>"
      ]
     },
     "metadata": {},
     "output_type": "display_data"
    }
   ],
   "source": [
    "sex = ['MALE', 'FEMALE'] \n",
    "    \n",
    "# selecting rows based on condition \n",
    "df_sex_flipper = df_size.loc[df_size['sex'].isin(sex)] \n",
    "    \n",
    "sns.boxplot(x=df_sex_flipper[\"sex\"], y=df_sex_flipper[\"flipper_length_mm\"],\n",
    "             palette=[\"m\", \"g\"])"
   ]
  }
 ],
 "metadata": {
  "kernelspec": {
   "display_name": "Python 3",
   "language": "python",
   "name": "python3"
  },
  "language_info": {
   "codemirror_mode": {
    "name": "ipython",
    "version": 3
   },
   "file_extension": ".py",
   "mimetype": "text/x-python",
   "name": "python",
   "nbconvert_exporter": "python",
   "pygments_lexer": "ipython3",
   "version": "3.7.12"
  },
  "papermill": {
   "default_parameters": {},
   "duration": 16.175053,
   "end_time": "2022-04-07T00:03:45.715395",
   "environment_variables": {},
   "exception": null,
   "input_path": "__notebook__.ipynb",
   "output_path": "__notebook__.ipynb",
   "parameters": {},
   "start_time": "2022-04-07T00:03:29.540342",
   "version": "2.3.3"
  }
 },
 "nbformat": 4,
 "nbformat_minor": 5
}
