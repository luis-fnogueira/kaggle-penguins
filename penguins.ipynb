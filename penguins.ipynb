{
 "cells": [
  {
   "cell_type": "code",
   "execution_count": 1,
   "id": "b00d0f89",
   "metadata": {
    "_cell_guid": "b1076dfc-b9ad-4769-8c92-a6c4dae69d19",
    "_uuid": "8f2839f25d086af736a60e9eeb907d3b93b6e0e5",
    "execution": {
     "iopub.execute_input": "2022-05-18T23:48:41.617219Z",
     "iopub.status.busy": "2022-05-18T23:48:41.615856Z",
     "iopub.status.idle": "2022-05-18T23:48:42.883596Z",
     "shell.execute_reply": "2022-05-18T23:48:42.884525Z",
     "shell.execute_reply.started": "2022-05-18T23:45:51.935554Z"
    },
    "papermill": {
     "duration": 1.314989,
     "end_time": "2022-05-18T23:48:42.884947",
     "exception": false,
     "start_time": "2022-05-18T23:48:41.569958",
     "status": "completed"
    },
    "tags": []
   },
   "outputs": [
    {
     "name": "stdout",
     "output_type": "stream",
     "text": [
      "/kaggle/input/palmer-archipelago-antarctica-penguin-data/penguins_size.csv\n",
      "/kaggle/input/palmer-archipelago-antarctica-penguin-data/penguins_lter.csv\n"
     ]
    }
   ],
   "source": [
    "# This Python 3 environment comes with many helpful analytics libraries installed\n",
    "# It is defined by the kaggle/python Docker image: https://github.com/kaggle/docker-python\n",
    "# For example, here's several helpful packages to load\n",
    "\n",
    "import numpy as np # linear algebra\n",
    "import pandas as pd # data processing, CSV file I/O (e.g. pd.read_csv)\n",
    "%matplotlib inline\n",
    "import seaborn as sns\n",
    "\n",
    "# Setting the float precision to 2 decimal places.\n",
    "\n",
    "pd.set_option(\"precision\", 2)\n",
    "pd.options.display.float_format = '{:.2f}'.format\n",
    "\n",
    "# Input data files are available in the read-only \"../input/\" directory\n",
    "# For example, running this (by clicking run or pressing Shift+Enter) will list all files under the input directory\n",
    "\n",
    "import os\n",
    "for dirname, _, filenames in os.walk('/kaggle/input'):\n",
    "    for filename in filenames:\n",
    "        print(os.path.join(dirname, filename))\n",
    "\n",
    "# You can write up to 20GB to the current directory (/kaggle/working/) that gets preserved as output when you create a version using \"Save & Run All\" \n",
    "# You can also write temporary files to /kaggle/temp/, but they won't be saved outside of the current session"
   ]
  },
  {
   "cell_type": "markdown",
   "id": "576bf21a",
   "metadata": {
    "papermill": {
     "duration": 0.034352,
     "end_time": "2022-05-18T23:48:42.952405",
     "exception": false,
     "start_time": "2022-05-18T23:48:42.918053",
     "status": "completed"
    },
    "tags": []
   },
   "source": [
    "# Inputting the data \n",
    "\n",
    "We are going to use the penguins_size.csv because it is a simplified dataset, as written in the description on Kaggle."
   ]
  },
  {
   "cell_type": "code",
   "execution_count": 2,
   "id": "45cf18f2",
   "metadata": {
    "execution": {
     "iopub.execute_input": "2022-05-18T23:48:43.018954Z",
     "iopub.status.busy": "2022-05-18T23:48:43.016778Z",
     "iopub.status.idle": "2022-05-18T23:48:43.032215Z",
     "shell.execute_reply": "2022-05-18T23:48:43.032805Z",
     "shell.execute_reply.started": "2022-05-18T23:45:53.107030Z"
    },
    "papermill": {
     "duration": 0.047216,
     "end_time": "2022-05-18T23:48:43.032979",
     "exception": false,
     "start_time": "2022-05-18T23:48:42.985763",
     "status": "completed"
    },
    "tags": []
   },
   "outputs": [],
   "source": [
    "df_size = pd.read_csv('/kaggle/input/palmer-archipelago-antarctica-penguin-data/penguins_size.csv')"
   ]
  },
  {
   "cell_type": "markdown",
   "id": "c3b32648",
   "metadata": {
    "papermill": {
     "duration": 0.028556,
     "end_time": "2022-05-18T23:48:43.091837",
     "exception": false,
     "start_time": "2022-05-18T23:48:43.063281",
     "status": "completed"
    },
    "tags": []
   },
   "source": [
    "# First glances on the dataset\n",
    "\n",
    "Let's have an overview of the dataset."
   ]
  },
  {
   "cell_type": "code",
   "execution_count": 3,
   "id": "f9795939",
   "metadata": {
    "execution": {
     "iopub.execute_input": "2022-05-18T23:48:43.152183Z",
     "iopub.status.busy": "2022-05-18T23:48:43.151146Z",
     "iopub.status.idle": "2022-05-18T23:48:43.173311Z",
     "shell.execute_reply": "2022-05-18T23:48:43.173808Z",
     "shell.execute_reply.started": "2022-05-18T23:45:53.122562Z"
    },
    "papermill": {
     "duration": 0.053869,
     "end_time": "2022-05-18T23:48:43.174013",
     "exception": false,
     "start_time": "2022-05-18T23:48:43.120144",
     "status": "completed"
    },
    "tags": []
   },
   "outputs": [
    {
     "data": {
      "text/html": [
       "<div>\n",
       "<style scoped>\n",
       "    .dataframe tbody tr th:only-of-type {\n",
       "        vertical-align: middle;\n",
       "    }\n",
       "\n",
       "    .dataframe tbody tr th {\n",
       "        vertical-align: top;\n",
       "    }\n",
       "\n",
       "    .dataframe thead th {\n",
       "        text-align: right;\n",
       "    }\n",
       "</style>\n",
       "<table border=\"1\" class=\"dataframe\">\n",
       "  <thead>\n",
       "    <tr style=\"text-align: right;\">\n",
       "      <th></th>\n",
       "      <th>species</th>\n",
       "      <th>island</th>\n",
       "      <th>culmen_length_mm</th>\n",
       "      <th>culmen_depth_mm</th>\n",
       "      <th>flipper_length_mm</th>\n",
       "      <th>body_mass_g</th>\n",
       "      <th>sex</th>\n",
       "    </tr>\n",
       "  </thead>\n",
       "  <tbody>\n",
       "    <tr>\n",
       "      <th>0</th>\n",
       "      <td>Adelie</td>\n",
       "      <td>Torgersen</td>\n",
       "      <td>39.10</td>\n",
       "      <td>18.70</td>\n",
       "      <td>181.00</td>\n",
       "      <td>3750.00</td>\n",
       "      <td>MALE</td>\n",
       "    </tr>\n",
       "    <tr>\n",
       "      <th>1</th>\n",
       "      <td>Adelie</td>\n",
       "      <td>Torgersen</td>\n",
       "      <td>39.50</td>\n",
       "      <td>17.40</td>\n",
       "      <td>186.00</td>\n",
       "      <td>3800.00</td>\n",
       "      <td>FEMALE</td>\n",
       "    </tr>\n",
       "    <tr>\n",
       "      <th>2</th>\n",
       "      <td>Adelie</td>\n",
       "      <td>Torgersen</td>\n",
       "      <td>40.30</td>\n",
       "      <td>18.00</td>\n",
       "      <td>195.00</td>\n",
       "      <td>3250.00</td>\n",
       "      <td>FEMALE</td>\n",
       "    </tr>\n",
       "    <tr>\n",
       "      <th>3</th>\n",
       "      <td>Adelie</td>\n",
       "      <td>Torgersen</td>\n",
       "      <td>NaN</td>\n",
       "      <td>NaN</td>\n",
       "      <td>NaN</td>\n",
       "      <td>NaN</td>\n",
       "      <td>NaN</td>\n",
       "    </tr>\n",
       "    <tr>\n",
       "      <th>4</th>\n",
       "      <td>Adelie</td>\n",
       "      <td>Torgersen</td>\n",
       "      <td>36.70</td>\n",
       "      <td>19.30</td>\n",
       "      <td>193.00</td>\n",
       "      <td>3450.00</td>\n",
       "      <td>FEMALE</td>\n",
       "    </tr>\n",
       "  </tbody>\n",
       "</table>\n",
       "</div>"
      ],
      "text/plain": [
       "  species     island  culmen_length_mm  culmen_depth_mm  flipper_length_mm  \\\n",
       "0  Adelie  Torgersen             39.10            18.70             181.00   \n",
       "1  Adelie  Torgersen             39.50            17.40             186.00   \n",
       "2  Adelie  Torgersen             40.30            18.00             195.00   \n",
       "3  Adelie  Torgersen               NaN              NaN                NaN   \n",
       "4  Adelie  Torgersen             36.70            19.30             193.00   \n",
       "\n",
       "   body_mass_g     sex  \n",
       "0      3750.00    MALE  \n",
       "1      3800.00  FEMALE  \n",
       "2      3250.00  FEMALE  \n",
       "3          NaN     NaN  \n",
       "4      3450.00  FEMALE  "
      ]
     },
     "execution_count": 3,
     "metadata": {},
     "output_type": "execute_result"
    }
   ],
   "source": [
    "df_size.head()"
   ]
  },
  {
   "cell_type": "markdown",
   "id": "ebc04d67",
   "metadata": {
    "papermill": {
     "duration": 0.027941,
     "end_time": "2022-05-18T23:48:43.232397",
     "exception": false,
     "start_time": "2022-05-18T23:48:43.204456",
     "status": "completed"
    },
    "tags": []
   },
   "source": [
    "One can notice that we have mainly information about penguins' culmen and flipper. It's also noticeable that we have a few NaN values, now we are going to have a deeper dive on the dataset."
   ]
  },
  {
   "cell_type": "markdown",
   "id": "3b03788e",
   "metadata": {
    "papermill": {
     "duration": 0.027798,
     "end_time": "2022-05-18T23:48:43.288926",
     "exception": false,
     "start_time": "2022-05-18T23:48:43.261128",
     "status": "completed"
    },
    "tags": []
   },
   "source": [
    "# Which columns does have NaN values?"
   ]
  },
  {
   "cell_type": "code",
   "execution_count": 4,
   "id": "bedf2832",
   "metadata": {
    "execution": {
     "iopub.execute_input": "2022-05-18T23:48:43.353133Z",
     "iopub.status.busy": "2022-05-18T23:48:43.352041Z",
     "iopub.status.idle": "2022-05-18T23:48:43.360142Z",
     "shell.execute_reply": "2022-05-18T23:48:43.360751Z",
     "shell.execute_reply.started": "2022-05-18T23:45:53.144562Z"
    },
    "papermill": {
     "duration": 0.04278,
     "end_time": "2022-05-18T23:48:43.360931",
     "exception": false,
     "start_time": "2022-05-18T23:48:43.318151",
     "status": "completed"
    },
    "tags": []
   },
   "outputs": [
    {
     "data": {
      "text/plain": [
       "species               0\n",
       "island                0\n",
       "culmen_length_mm      2\n",
       "culmen_depth_mm       2\n",
       "flipper_length_mm     2\n",
       "body_mass_g           2\n",
       "sex                  10\n",
       "dtype: int64"
      ]
     },
     "execution_count": 4,
     "metadata": {},
     "output_type": "execute_result"
    }
   ],
   "source": [
    "df_size.isnull().sum()"
   ]
  },
  {
   "cell_type": "code",
   "execution_count": 5,
   "id": "2d5de73f",
   "metadata": {
    "execution": {
     "iopub.execute_input": "2022-05-18T23:48:43.431575Z",
     "iopub.status.busy": "2022-05-18T23:48:43.430766Z",
     "iopub.status.idle": "2022-05-18T23:48:43.458628Z",
     "shell.execute_reply": "2022-05-18T23:48:43.459168Z",
     "shell.execute_reply.started": "2022-05-18T23:45:53.152656Z"
    },
    "papermill": {
     "duration": 0.069707,
     "end_time": "2022-05-18T23:48:43.459344",
     "exception": false,
     "start_time": "2022-05-18T23:48:43.389637",
     "status": "completed"
    },
    "tags": []
   },
   "outputs": [
    {
     "data": {
      "text/html": [
       "<div>\n",
       "<style scoped>\n",
       "    .dataframe tbody tr th:only-of-type {\n",
       "        vertical-align: middle;\n",
       "    }\n",
       "\n",
       "    .dataframe tbody tr th {\n",
       "        vertical-align: top;\n",
       "    }\n",
       "\n",
       "    .dataframe thead th {\n",
       "        text-align: right;\n",
       "    }\n",
       "</style>\n",
       "<table border=\"1\" class=\"dataframe\">\n",
       "  <thead>\n",
       "    <tr style=\"text-align: right;\">\n",
       "      <th></th>\n",
       "      <th>culmen_length_mm</th>\n",
       "      <th>culmen_depth_mm</th>\n",
       "      <th>flipper_length_mm</th>\n",
       "      <th>body_mass_g</th>\n",
       "    </tr>\n",
       "  </thead>\n",
       "  <tbody>\n",
       "    <tr>\n",
       "      <th>count</th>\n",
       "      <td>342.00</td>\n",
       "      <td>342.00</td>\n",
       "      <td>342.00</td>\n",
       "      <td>342.00</td>\n",
       "    </tr>\n",
       "    <tr>\n",
       "      <th>mean</th>\n",
       "      <td>43.92</td>\n",
       "      <td>17.15</td>\n",
       "      <td>200.92</td>\n",
       "      <td>4201.75</td>\n",
       "    </tr>\n",
       "    <tr>\n",
       "      <th>std</th>\n",
       "      <td>5.46</td>\n",
       "      <td>1.97</td>\n",
       "      <td>14.06</td>\n",
       "      <td>801.95</td>\n",
       "    </tr>\n",
       "    <tr>\n",
       "      <th>min</th>\n",
       "      <td>32.10</td>\n",
       "      <td>13.10</td>\n",
       "      <td>172.00</td>\n",
       "      <td>2700.00</td>\n",
       "    </tr>\n",
       "    <tr>\n",
       "      <th>25%</th>\n",
       "      <td>39.23</td>\n",
       "      <td>15.60</td>\n",
       "      <td>190.00</td>\n",
       "      <td>3550.00</td>\n",
       "    </tr>\n",
       "    <tr>\n",
       "      <th>50%</th>\n",
       "      <td>44.45</td>\n",
       "      <td>17.30</td>\n",
       "      <td>197.00</td>\n",
       "      <td>4050.00</td>\n",
       "    </tr>\n",
       "    <tr>\n",
       "      <th>75%</th>\n",
       "      <td>48.50</td>\n",
       "      <td>18.70</td>\n",
       "      <td>213.00</td>\n",
       "      <td>4750.00</td>\n",
       "    </tr>\n",
       "    <tr>\n",
       "      <th>max</th>\n",
       "      <td>59.60</td>\n",
       "      <td>21.50</td>\n",
       "      <td>231.00</td>\n",
       "      <td>6300.00</td>\n",
       "    </tr>\n",
       "  </tbody>\n",
       "</table>\n",
       "</div>"
      ],
      "text/plain": [
       "       culmen_length_mm  culmen_depth_mm  flipper_length_mm  body_mass_g\n",
       "count            342.00           342.00             342.00       342.00\n",
       "mean              43.92            17.15             200.92      4201.75\n",
       "std                5.46             1.97              14.06       801.95\n",
       "min               32.10            13.10             172.00      2700.00\n",
       "25%               39.23            15.60             190.00      3550.00\n",
       "50%               44.45            17.30             197.00      4050.00\n",
       "75%               48.50            18.70             213.00      4750.00\n",
       "max               59.60            21.50             231.00      6300.00"
      ]
     },
     "execution_count": 5,
     "metadata": {},
     "output_type": "execute_result"
    }
   ],
   "source": [
    "df_size.describe()"
   ]
  },
  {
   "cell_type": "markdown",
   "id": "b839921f",
   "metadata": {
    "papermill": {
     "duration": 0.029549,
     "end_time": "2022-05-18T23:48:43.519121",
     "exception": false,
     "start_time": "2022-05-18T23:48:43.489572",
     "status": "completed"
    },
    "tags": []
   },
   "source": [
    "As we have only a few missing values we are going to drop those lines."
   ]
  },
  {
   "cell_type": "code",
   "execution_count": 6,
   "id": "ce1b3956",
   "metadata": {
    "execution": {
     "iopub.execute_input": "2022-05-18T23:48:43.589610Z",
     "iopub.status.busy": "2022-05-18T23:48:43.588599Z",
     "iopub.status.idle": "2022-05-18T23:48:43.598608Z",
     "shell.execute_reply": "2022-05-18T23:48:43.599105Z",
     "shell.execute_reply.started": "2022-05-18T23:45:53.188589Z"
    },
    "papermill": {
     "duration": 0.04909,
     "end_time": "2022-05-18T23:48:43.599284",
     "exception": false,
     "start_time": "2022-05-18T23:48:43.550194",
     "status": "completed"
    },
    "tags": []
   },
   "outputs": [
    {
     "data": {
      "text/plain": [
       "species              0\n",
       "island               0\n",
       "culmen_length_mm     0\n",
       "culmen_depth_mm      0\n",
       "flipper_length_mm    0\n",
       "body_mass_g          0\n",
       "sex                  0\n",
       "dtype: int64"
      ]
     },
     "execution_count": 6,
     "metadata": {},
     "output_type": "execute_result"
    }
   ],
   "source": [
    "df_size.dropna(inplace=True)\n",
    "\n",
    "# Checking if we truly have no missing values anymore\n",
    "\n",
    "df_size.isnull().sum()"
   ]
  },
  {
   "cell_type": "markdown",
   "id": "802ebedd",
   "metadata": {
    "papermill": {
     "duration": 0.032921,
     "end_time": "2022-05-18T23:48:43.662361",
     "exception": false,
     "start_time": "2022-05-18T23:48:43.629440",
     "status": "completed"
    },
    "tags": []
   },
   "source": [
    "# How many different species does the dataset have?"
   ]
  },
  {
   "cell_type": "code",
   "execution_count": 7,
   "id": "38a364a4",
   "metadata": {
    "execution": {
     "iopub.execute_input": "2022-05-18T23:48:43.740185Z",
     "iopub.status.busy": "2022-05-18T23:48:43.739277Z",
     "iopub.status.idle": "2022-05-18T23:48:43.743279Z",
     "shell.execute_reply": "2022-05-18T23:48:43.742638Z",
     "shell.execute_reply.started": "2022-05-18T23:45:53.199283Z"
    },
    "papermill": {
     "duration": 0.049102,
     "end_time": "2022-05-18T23:48:43.743425",
     "exception": false,
     "start_time": "2022-05-18T23:48:43.694323",
     "status": "completed"
    },
    "tags": []
   },
   "outputs": [
    {
     "data": {
      "text/plain": [
       "Adelie       146\n",
       "Gentoo       120\n",
       "Chinstrap     68\n",
       "Name: species, dtype: int64"
      ]
     },
     "execution_count": 7,
     "metadata": {},
     "output_type": "execute_result"
    }
   ],
   "source": [
    "df_size['species'].value_counts()"
   ]
  },
  {
   "cell_type": "code",
   "execution_count": 8,
   "id": "5eaf9f9b",
   "metadata": {
    "execution": {
     "iopub.execute_input": "2022-05-18T23:48:43.817858Z",
     "iopub.status.busy": "2022-05-18T23:48:43.817046Z",
     "iopub.status.idle": "2022-05-18T23:48:43.820301Z",
     "shell.execute_reply": "2022-05-18T23:48:43.820798Z",
     "shell.execute_reply.started": "2022-05-18T23:45:53.214287Z"
    },
    "papermill": {
     "duration": 0.041577,
     "end_time": "2022-05-18T23:48:43.820969",
     "exception": false,
     "start_time": "2022-05-18T23:48:43.779392",
     "status": "completed"
    },
    "tags": []
   },
   "outputs": [
    {
     "data": {
      "text/plain": [
       "Adelie      0.44\n",
       "Gentoo      0.36\n",
       "Chinstrap   0.20\n",
       "Name: species, dtype: float64"
      ]
     },
     "execution_count": 8,
     "metadata": {},
     "output_type": "execute_result"
    }
   ],
   "source": [
    "df_size['species'].value_counts(normalize=True)"
   ]
  },
  {
   "cell_type": "markdown",
   "id": "7bb22f23",
   "metadata": {
    "papermill": {
     "duration": 0.031454,
     "end_time": "2022-05-18T23:48:43.883361",
     "exception": false,
     "start_time": "2022-05-18T23:48:43.851907",
     "status": "completed"
    },
    "tags": []
   },
   "source": [
    "There are 3 different species on the dataset, which almost half is from the Adelie specie."
   ]
  },
  {
   "cell_type": "markdown",
   "id": "706cbcea",
   "metadata": {
    "papermill": {
     "duration": 0.036118,
     "end_time": "2022-05-18T23:48:43.952501",
     "exception": false,
     "start_time": "2022-05-18T23:48:43.916383",
     "status": "completed"
    },
    "tags": []
   },
   "source": [
    "# Does the culmen length grows according to the body mass?"
   ]
  },
  {
   "cell_type": "code",
   "execution_count": 9,
   "id": "f9982d20",
   "metadata": {
    "execution": {
     "iopub.execute_input": "2022-05-18T23:48:44.019827Z",
     "iopub.status.busy": "2022-05-18T23:48:44.019198Z",
     "iopub.status.idle": "2022-05-18T23:48:46.477142Z",
     "shell.execute_reply": "2022-05-18T23:48:46.477689Z",
     "shell.execute_reply.started": "2022-05-18T23:45:53.225099Z"
    },
    "papermill": {
     "duration": 2.49286,
     "end_time": "2022-05-18T23:48:46.477900",
     "exception": false,
     "start_time": "2022-05-18T23:48:43.985040",
     "status": "completed"
    },
    "tags": []
   },
   "outputs": [
    {
     "data": {
      "text/plain": [
       "<AxesSubplot:xlabel='body_mass_g', ylabel='culmen_length_mm'>"
      ]
     },
     "execution_count": 9,
     "metadata": {},
     "output_type": "execute_result"
    },
    {
     "data": {
      "image/png": "[encoded data removed]",
      "text/plain": [
       "<Figure size 432x288 with 1 Axes>"
      ]
     },
     "metadata": {},
     "output_type": "display_data"
    }
   ],
   "source": [
    "sns.set_theme(style=\"whitegrid\")\n",
    "\n",
    "\n",
    "\n",
    "sns.lineplot(x=df_size['body_mass_g'],y=df_size['culmen_length_mm'], \\\n",
    "             palette=\"tab10\", linewidth=2.5)"
   ]
  },
  {
   "cell_type": "markdown",
   "id": "7f45168b",
   "metadata": {
    "papermill": {
     "duration": 0.032744,
     "end_time": "2022-05-18T23:48:46.545226",
     "exception": false,
     "start_time": "2022-05-18T23:48:46.512482",
     "status": "completed"
    },
    "tags": []
   },
   "source": [
    "We can see a slight relation between these two variables, but it's not linear."
   ]
  },
  {
   "cell_type": "markdown",
   "id": "040dede9",
   "metadata": {
    "papermill": {
     "duration": 0.035725,
     "end_time": "2022-05-18T23:48:46.616579",
     "exception": false,
     "start_time": "2022-05-18T23:48:46.580854",
     "status": "completed"
    },
    "tags": []
   },
   "source": [
    "# How's the body mass according to sex?"
   ]
  },
  {
   "cell_type": "code",
   "execution_count": 10,
   "id": "32f98a67",
   "metadata": {
    "execution": {
     "iopub.execute_input": "2022-05-18T23:48:46.691300Z",
     "iopub.status.busy": "2022-05-18T23:48:46.690364Z",
     "iopub.status.idle": "2022-05-18T23:48:46.915280Z",
     "shell.execute_reply": "2022-05-18T23:48:46.915818Z",
     "shell.execute_reply.started": "2022-05-18T23:45:55.763350Z"
    },
    "papermill": {
     "duration": 0.264738,
     "end_time": "2022-05-18T23:48:46.916047",
     "exception": false,
     "start_time": "2022-05-18T23:48:46.651309",
     "status": "completed"
    },
    "tags": []
   },
   "outputs": [
    {
     "data": {
      "text/plain": [
       "<AxesSubplot:xlabel='sex', ylabel='body_mass_g'>"
      ]
     },
     "execution_count": 10,
     "metadata": {},
     "output_type": "execute_result"
    },
    {
     "data": {
      "image/png": "[encoded data removed]",
      "text/plain": [
       "<Figure size 432x288 with 1 Axes>"
      ]
     },
     "metadata": {},
     "output_type": "display_data"
    }
   ],
   "source": [
    "\n",
    "sex = ['MALE', 'FEMALE'] \n",
    "    \n",
    "# selecting rows based on condition \n",
    "df_sex = df_size.loc[df_size['sex'].isin(sex)] \n",
    "    \n",
    "sns.boxplot(x=df_sex[\"sex\"], y=df_sex[\"body_mass_g\"],\n",
    "             palette=[\"m\", \"g\"])"
   ]
  },
  {
   "cell_type": "code",
   "execution_count": 11,
   "id": "3f2ee2f6",
   "metadata": {
    "execution": {
     "iopub.execute_input": "2022-05-18T23:48:46.998199Z",
     "iopub.status.busy": "2022-05-18T23:48:46.997402Z",
     "iopub.status.idle": "2022-05-18T23:48:47.008393Z",
     "shell.execute_reply": "2022-05-18T23:48:47.007653Z",
     "shell.execute_reply.started": "2022-05-18T23:45:55.933205Z"
    },
    "papermill": {
     "duration": 0.05477,
     "end_time": "2022-05-18T23:48:47.008545",
     "exception": false,
     "start_time": "2022-05-18T23:48:46.953775",
     "status": "completed"
    },
    "tags": []
   },
   "outputs": [
    {
     "data": {
      "text/plain": [
       "count    168.00\n",
       "mean    4545.68\n",
       "std      787.63\n",
       "min     3250.00\n",
       "25%     3900.00\n",
       "50%     4300.00\n",
       "75%     5312.50\n",
       "max     6300.00\n",
       "Name: body_mass_g, dtype: float64"
      ]
     },
     "execution_count": 11,
     "metadata": {},
     "output_type": "execute_result"
    }
   ],
   "source": [
    "df_male = df_sex.loc[df_size['sex']=='MALE']\n",
    "\n",
    "df_male['body_mass_g'].describe()"
   ]
  },
  {
   "cell_type": "code",
   "execution_count": 12,
   "id": "eb447ded",
   "metadata": {
    "execution": {
     "iopub.execute_input": "2022-05-18T23:48:47.082269Z",
     "iopub.status.busy": "2022-05-18T23:48:47.081605Z",
     "iopub.status.idle": "2022-05-18T23:48:47.091094Z",
     "shell.execute_reply": "2022-05-18T23:48:47.091574Z",
     "shell.execute_reply.started": "2022-05-18T23:45:55.951386Z"
    },
    "papermill": {
     "duration": 0.047009,
     "end_time": "2022-05-18T23:48:47.091764",
     "exception": false,
     "start_time": "2022-05-18T23:48:47.044755",
     "status": "completed"
    },
    "tags": []
   },
   "outputs": [
    {
     "data": {
      "text/plain": [
       "count    165.00\n",
       "mean    3862.27\n",
       "std      666.17\n",
       "min     2700.00\n",
       "25%     3350.00\n",
       "50%     3650.00\n",
       "75%     4550.00\n",
       "max     5200.00\n",
       "Name: body_mass_g, dtype: float64"
      ]
     },
     "execution_count": 12,
     "metadata": {},
     "output_type": "execute_result"
    }
   ],
   "source": [
    "df_female = df_sex.loc[df_size['sex']=='FEMALE']\n",
    "\n",
    "df_female['body_mass_g'].describe()"
   ]
  },
  {
   "cell_type": "markdown",
   "id": "c4ac770d",
   "metadata": {
    "papermill": {
     "duration": 0.034778,
     "end_time": "2022-05-18T23:48:47.161218",
     "exception": false,
     "start_time": "2022-05-18T23:48:47.126440",
     "status": "completed"
    },
    "tags": []
   },
   "source": [
    "### One can understand that there is a considerable difference between female and male body mass.\n",
    "\n",
    "About 25% of male penguins weighs more than the maximum of females penguins."
   ]
  },
  {
   "cell_type": "markdown",
   "id": "d932e4af",
   "metadata": {
    "papermill": {
     "duration": 0.035778,
     "end_time": "2022-05-18T23:48:47.232103",
     "exception": false,
     "start_time": "2022-05-18T23:48:47.196325",
     "status": "completed"
    },
    "tags": []
   },
   "source": [
    "# Flipper length"
   ]
  },
  {
   "cell_type": "code",
   "execution_count": 13,
   "id": "ffe56dea",
   "metadata": {
    "execution": {
     "iopub.execute_input": "2022-05-18T23:48:47.310139Z",
     "iopub.status.busy": "2022-05-18T23:48:47.309136Z",
     "iopub.status.idle": "2022-05-18T23:48:47.313093Z",
     "shell.execute_reply": "2022-05-18T23:48:47.313564Z",
     "shell.execute_reply.started": "2022-05-18T23:45:55.963844Z"
    },
    "papermill": {
     "duration": 0.045144,
     "end_time": "2022-05-18T23:48:47.313743",
     "exception": false,
     "start_time": "2022-05-18T23:48:47.268599",
     "status": "completed"
    },
    "tags": []
   },
   "outputs": [],
   "source": [
    "df_flipper = df_size.copy()"
   ]
  },
  {
   "cell_type": "markdown",
   "id": "7762a24d",
   "metadata": {
    "papermill": {
     "duration": 0.035062,
     "end_time": "2022-05-18T23:48:47.385535",
     "exception": false,
     "start_time": "2022-05-18T23:48:47.350473",
     "status": "completed"
    },
    "tags": []
   },
   "source": [
    "### Let's understand the distribution of flipper length according to sex"
   ]
  },
  {
   "cell_type": "code",
   "execution_count": 14,
   "id": "05c21369",
   "metadata": {
    "execution": {
     "iopub.execute_input": "2022-05-18T23:48:47.462433Z",
     "iopub.status.busy": "2022-05-18T23:48:47.461357Z",
     "iopub.status.idle": "2022-05-18T23:48:47.682299Z",
     "shell.execute_reply": "2022-05-18T23:48:47.682802Z",
     "shell.execute_reply.started": "2022-05-18T23:45:55.976701Z"
    },
    "papermill": {
     "duration": 0.260802,
     "end_time": "2022-05-18T23:48:47.682972",
     "exception": false,
     "start_time": "2022-05-18T23:48:47.422170",
     "status": "completed"
    },
    "tags": []
   },
   "outputs": [
    {
     "data": {
      "text/plain": [
       "<AxesSubplot:xlabel='sex', ylabel='flipper_length_mm'>"
      ]
     },
     "execution_count": 14,
     "metadata": {},
     "output_type": "execute_result"
    },
    {
     "data": {
      "image/png": "[encoded data removed]",
      "text/plain": [
       "<Figure size 432x288 with 1 Axes>"
      ]
     },
     "metadata": {},
     "output_type": "display_data"
    }
   ],
   "source": [
    "sex = ['MALE', 'FEMALE'] \n",
    "    \n",
    "# selecting rows based on condition \n",
    "df_sex_flipper = df_size.loc[df_size['sex'].isin(sex)] \n",
    "    \n",
    "sns.boxplot(x=df_sex_flipper[\"sex\"], y=df_sex_flipper[\"flipper_length_mm\"],\n",
    "             palette=[\"m\", \"g\"])"
   ]
  },
  {
   "cell_type": "markdown",
   "id": "7cb7635c",
   "metadata": {
    "papermill": {
     "duration": 0.035683,
     "end_time": "2022-05-18T23:48:47.754940",
     "exception": false,
     "start_time": "2022-05-18T23:48:47.719257",
     "status": "completed"
    },
    "tags": []
   },
   "source": [
    "# Body mass per specie"
   ]
  },
  {
   "cell_type": "code",
   "execution_count": 15,
   "id": "19366d81",
   "metadata": {
    "execution": {
     "iopub.execute_input": "2022-05-18T23:48:47.835639Z",
     "iopub.status.busy": "2022-05-18T23:48:47.834604Z",
     "iopub.status.idle": "2022-05-18T23:48:47.838962Z",
     "shell.execute_reply": "2022-05-18T23:48:47.839459Z",
     "shell.execute_reply.started": "2022-05-18T23:45:56.162035Z"
    },
    "papermill": {
     "duration": 0.047172,
     "end_time": "2022-05-18T23:48:47.839640",
     "exception": false,
     "start_time": "2022-05-18T23:48:47.792468",
     "status": "completed"
    },
    "tags": []
   },
   "outputs": [],
   "source": [
    "df_species = df_size.copy()"
   ]
  },
  {
   "cell_type": "code",
   "execution_count": 16,
   "id": "2cb04bc8",
   "metadata": {
    "execution": {
     "iopub.execute_input": "2022-05-18T23:48:47.914728Z",
     "iopub.status.busy": "2022-05-18T23:48:47.914028Z",
     "iopub.status.idle": "2022-05-18T23:48:48.162375Z",
     "shell.execute_reply": "2022-05-18T23:48:48.162873Z",
     "shell.execute_reply.started": "2022-05-18T23:45:56.168439Z"
    },
    "papermill": {
     "duration": 0.287552,
     "end_time": "2022-05-18T23:48:48.163079",
     "exception": false,
     "start_time": "2022-05-18T23:48:47.875527",
     "status": "completed"
    },
    "tags": []
   },
   "outputs": [
    {
     "data": {
      "text/plain": [
       "<AxesSubplot:xlabel='species', ylabel='body_mass_g'>"
      ]
     },
     "execution_count": 16,
     "metadata": {},
     "output_type": "execute_result"
    },
    {
     "data": {
      "image/png": "[encoded data removed]",
      "text/plain": [
       "<Figure size 432x288 with 1 Axes>"
      ]
     },
     "metadata": {},
     "output_type": "display_data"
    }
   ],
   "source": [
    "sex = ['MALE', 'FEMALE'] \n",
    "    \n",
    "# selecting rows based on condition \n",
    "df_sex_flipper = df_size.loc[df_size['sex'].isin(sex)] \n",
    "    \n",
    "sns.boxplot(x=df_sex_flipper[\"species\"], y=df_sex_flipper[\"body_mass_g\"],\n",
    "             palette=[\"m\", \"g\"])"
   ]
  },
  {
   "cell_type": "markdown",
   "id": "46c612ec",
   "metadata": {
    "papermill": {
     "duration": 0.037633,
     "end_time": "2022-05-18T23:48:48.238763",
     "exception": false,
     "start_time": "2022-05-18T23:48:48.201130",
     "status": "completed"
    },
    "tags": []
   },
   "source": [
    "# Correlation"
   ]
  },
  {
   "cell_type": "markdown",
   "id": "cbe94160",
   "metadata": {
    "papermill": {
     "duration": 0.037237,
     "end_time": "2022-05-18T23:48:48.313336",
     "exception": false,
     "start_time": "2022-05-18T23:48:48.276099",
     "status": "completed"
    },
    "tags": []
   },
   "source": [
    "How is the correlation between the variables?"
   ]
  },
  {
   "cell_type": "code",
   "execution_count": 17,
   "id": "d81f7cd5",
   "metadata": {
    "execution": {
     "iopub.execute_input": "2022-05-18T23:48:48.391137Z",
     "iopub.status.busy": "2022-05-18T23:48:48.390417Z",
     "iopub.status.idle": "2022-05-18T23:48:48.475478Z",
     "shell.execute_reply": "2022-05-18T23:48:48.474808Z",
     "shell.execute_reply.started": "2022-05-18T23:46:39.532357Z"
    },
    "papermill": {
     "duration": 0.125267,
     "end_time": "2022-05-18T23:48:48.475636",
     "exception": false,
     "start_time": "2022-05-18T23:48:48.350369",
     "status": "completed"
    },
    "tags": []
   },
   "outputs": [
    {
     "data": {
      "text/html": [
       "<style type=\"text/css\">\n",
       "#T_33fa0_row0_col0, #T_33fa0_row1_col1, #T_33fa0_row2_col2, #T_33fa0_row3_col3 {\n",
       "  background-color: #08306b;\n",
       "  color: #f1f1f1;\n",
       "}\n",
       "#T_33fa0_row0_col1 {\n",
       "  background-color: #ccdff1;\n",
       "  color: #000000;\n",
       "}\n",
       "#T_33fa0_row0_col2 {\n",
       "  background-color: #1b69af;\n",
       "  color: #f1f1f1;\n",
       "}\n",
       "#T_33fa0_row0_col3 {\n",
       "  background-color: #2979b9;\n",
       "  color: #f1f1f1;\n",
       "}\n",
       "#T_33fa0_row1_col0, #T_33fa0_row1_col2, #T_33fa0_row1_col3, #T_33fa0_row2_col1 {\n",
       "  background-color: #f7fbff;\n",
       "  color: #000000;\n",
       "}\n",
       "#T_33fa0_row2_col0 {\n",
       "  background-color: #2a7ab9;\n",
       "  color: #f1f1f1;\n",
       "}\n",
       "#T_33fa0_row2_col3 {\n",
       "  background-color: #08478d;\n",
       "  color: #f1f1f1;\n",
       "}\n",
       "#T_33fa0_row3_col0 {\n",
       "  background-color: #3787c0;\n",
       "  color: #f1f1f1;\n",
       "}\n",
       "#T_33fa0_row3_col1 {\n",
       "  background-color: #eaf2fb;\n",
       "  color: #000000;\n",
       "}\n",
       "#T_33fa0_row3_col2 {\n",
       "  background-color: #08458a;\n",
       "  color: #f1f1f1;\n",
       "}\n",
       "</style>\n",
       "<table id=\"T_33fa0_\">\n",
       "  <thead>\n",
       "    <tr>\n",
       "      <th class=\"blank level0\" >&nbsp;</th>\n",
       "      <th class=\"col_heading level0 col0\" >culmen_length_mm</th>\n",
       "      <th class=\"col_heading level0 col1\" >culmen_depth_mm</th>\n",
       "      <th class=\"col_heading level0 col2\" >flipper_length_mm</th>\n",
       "      <th class=\"col_heading level0 col3\" >body_mass_g</th>\n",
       "    </tr>\n",
       "  </thead>\n",
       "  <tbody>\n",
       "    <tr>\n",
       "      <th id=\"T_33fa0_level0_row0\" class=\"row_heading level0 row0\" >culmen_length_mm</th>\n",
       "      <td id=\"T_33fa0_row0_col0\" class=\"data row0 col0\" >1.00</td>\n",
       "      <td id=\"T_33fa0_row0_col1\" class=\"data row0 col1\" >-0.23</td>\n",
       "      <td id=\"T_33fa0_row0_col2\" class=\"data row0 col2\" >0.65</td>\n",
       "      <td id=\"T_33fa0_row0_col3\" class=\"data row0 col3\" >0.59</td>\n",
       "    </tr>\n",
       "    <tr>\n",
       "      <th id=\"T_33fa0_level0_row1\" class=\"row_heading level0 row1\" >culmen_depth_mm</th>\n",
       "      <td id=\"T_33fa0_row1_col0\" class=\"data row1 col0\" >-0.23</td>\n",
       "      <td id=\"T_33fa0_row1_col1\" class=\"data row1 col1\" >1.00</td>\n",
       "      <td id=\"T_33fa0_row1_col2\" class=\"data row1 col2\" >-0.58</td>\n",
       "      <td id=\"T_33fa0_row1_col3\" class=\"data row1 col3\" >-0.47</td>\n",
       "    </tr>\n",
       "    <tr>\n",
       "      <th id=\"T_33fa0_level0_row2\" class=\"row_heading level0 row2\" >flipper_length_mm</th>\n",
       "      <td id=\"T_33fa0_row2_col0\" class=\"data row2 col0\" >0.65</td>\n",
       "      <td id=\"T_33fa0_row2_col1\" class=\"data row2 col1\" >-0.58</td>\n",
       "      <td id=\"T_33fa0_row2_col2\" class=\"data row2 col2\" >1.00</td>\n",
       "      <td id=\"T_33fa0_row2_col3\" class=\"data row2 col3\" >0.87</td>\n",
       "    </tr>\n",
       "    <tr>\n",
       "      <th id=\"T_33fa0_level0_row3\" class=\"row_heading level0 row3\" >body_mass_g</th>\n",
       "      <td id=\"T_33fa0_row3_col0\" class=\"data row3 col0\" >0.59</td>\n",
       "      <td id=\"T_33fa0_row3_col1\" class=\"data row3 col1\" >-0.47</td>\n",
       "      <td id=\"T_33fa0_row3_col2\" class=\"data row3 col2\" >0.87</td>\n",
       "      <td id=\"T_33fa0_row3_col3\" class=\"data row3 col3\" >1.00</td>\n",
       "    </tr>\n",
       "  </tbody>\n",
       "</table>\n"
      ],
      "text/plain": [
       "<pandas.io.formats.style.Styler at 0x7f79dc26c910>"
      ]
     },
     "execution_count": 17,
     "metadata": {},
     "output_type": "execute_result"
    }
   ],
   "source": [
    "df_size.corr().style.background_gradient(cmap=\"Blues\")"
   ]
  },
  {
   "cell_type": "markdown",
   "id": "9150d3e0",
   "metadata": {
    "papermill": {
     "duration": 0.040779,
     "end_time": "2022-05-18T23:48:48.559638",
     "exception": false,
     "start_time": "2022-05-18T23:48:48.518859",
     "status": "completed"
    },
    "tags": []
   },
   "source": [
    "One can observe that the correlation among the variables is not that big. It usually changes considerably through each other."
   ]
  }
 ],
 "metadata": {
  "kernelspec": {
   "display_name": "Python 3",
   "language": "python",
   "name": "python3"
  },
  "language_info": {
   "codemirror_mode": {
    "name": "ipython",
    "version": 3
   },
   "file_extension": ".py",
   "mimetype": "text/x-python",
   "name": "python",
   "nbconvert_exporter": "python",
   "pygments_lexer": "ipython3",
   "version": "3.7.12"
  },
  "papermill": {
   "default_parameters": {},
   "duration": 19.779658,
   "end_time": "2022-05-18T23:48:49.409792",
   "environment_variables": {},
   "exception": null,
   "input_path": "__notebook__.ipynb",
   "output_path": "__notebook__.ipynb",
   "parameters": {},
   "start_time": "2022-05-18T23:48:29.630134",
   "version": "2.3.3"
  }
 },
 "nbformat": 4,
 "nbformat_minor": 5
}
