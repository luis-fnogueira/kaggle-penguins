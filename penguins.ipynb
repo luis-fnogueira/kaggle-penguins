{
 "cells": [
  {
   "cell_type": "code",
   "execution_count": 1,
   "id": "52111015",
   "metadata": {
    "_cell_guid": "b1076dfc-b9ad-4769-8c92-a6c4dae69d19",
    "_uuid": "8f2839f25d086af736a60e9eeb907d3b93b6e0e5",
    "execution": {
     "iopub.execute_input": "2022-04-04T23:01:08.723528Z",
     "iopub.status.busy": "2022-04-04T23:01:08.722785Z",
     "iopub.status.idle": "2022-04-04T23:01:09.819568Z",
     "shell.execute_reply": "2022-04-04T23:01:09.818306Z",
     "shell.execute_reply.started": "2022-04-04T22:46:15.715533Z"
    },
    "papermill": {
     "duration": 1.120904,
     "end_time": "2022-04-04T23:01:09.819814",
     "exception": false,
     "start_time": "2022-04-04T23:01:08.698910",
     "status": "completed"
    },
    "tags": []
   },
   "outputs": [
    {
     "name": "stdout",
     "output_type": "stream",
     "text": [
      "/kaggle/input/palmer-archipelago-antarctica-penguin-data/penguins_size.csv\n",
      "/kaggle/input/palmer-archipelago-antarctica-penguin-data/penguins_lter.csv\n"
     ]
    }
   ],
   "source": [
    "# This Python 3 environment comes with many helpful analytics libraries installed\n",
    "# It is defined by the kaggle/python Docker image: https://github.com/kaggle/docker-python\n",
    "# For example, here's several helpful packages to load\n",
    "\n",
    "import numpy as np # linear algebra\n",
    "import pandas as pd # data processing, CSV file I/O (e.g. pd.read_csv)\n",
    "%matplotlib inline\n",
    "import seaborn as sns\n",
    "\n",
    "# Setting the float precision to 2 decimal places.\n",
    "\n",
    "pd.set_option(\"precision\", 2)\n",
    "pd.options.display.float_format = '{:.2f}'.format\n",
    "\n",
    "# Input data files are available in the read-only \"../input/\" directory\n",
    "# For example, running this (by clicking run or pressing Shift+Enter) will list all files under the input directory\n",
    "\n",
    "import os\n",
    "for dirname, _, filenames in os.walk('/kaggle/input'):\n",
    "    for filename in filenames:\n",
    "        print(os.path.join(dirname, filename))\n",
    "\n",
    "# You can write up to 20GB to the current directory (/kaggle/working/) that gets preserved as output when you create a version using \"Save & Run All\" \n",
    "# You can also write temporary files to /kaggle/temp/, but they won't be saved outside of the current session"
   ]
  },
  {
   "cell_type": "markdown",
   "id": "bdbd64a3",
   "metadata": {
    "papermill": {
     "duration": 0.009356,
     "end_time": "2022-04-04T23:01:09.840110",
     "exception": false,
     "start_time": "2022-04-04T23:01:09.830754",
     "status": "completed"
    },
    "tags": []
   },
   "source": [
    "# Inputting the data \n",
    "\n",
    "We are going to use the penguins_size.csv because it is a simplified dataset, as written in the description on Kaggle."
   ]
  },
  {
   "cell_type": "code",
   "execution_count": 2,
   "id": "4e19e019",
   "metadata": {
    "execution": {
     "iopub.execute_input": "2022-04-04T23:01:09.864605Z",
     "iopub.status.busy": "2022-04-04T23:01:09.863834Z",
     "iopub.status.idle": "2022-04-04T23:01:09.876300Z",
     "shell.execute_reply": "2022-04-04T23:01:09.876798Z",
     "shell.execute_reply.started": "2022-04-04T22:46:15.756366Z"
    },
    "papermill": {
     "duration": 0.027344,
     "end_time": "2022-04-04T23:01:09.876964",
     "exception": false,
     "start_time": "2022-04-04T23:01:09.849620",
     "status": "completed"
    },
    "tags": []
   },
   "outputs": [],
   "source": [
    "df_size = pd.read_csv('/kaggle/input/palmer-archipelago-antarctica-penguin-data/penguins_size.csv')"
   ]
  },
  {
   "cell_type": "markdown",
   "id": "27e771a5",
   "metadata": {
    "papermill": {
     "duration": 0.009425,
     "end_time": "2022-04-04T23:01:09.895770",
     "exception": false,
     "start_time": "2022-04-04T23:01:09.886345",
     "status": "completed"
    },
    "tags": []
   },
   "source": [
    "# First glances on the dataset\n",
    "\n",
    "Let's have an overview of the dataset."
   ]
  },
  {
   "cell_type": "code",
   "execution_count": 3,
   "id": "c2e48e51",
   "metadata": {
    "execution": {
     "iopub.execute_input": "2022-04-04T23:01:09.917769Z",
     "iopub.status.busy": "2022-04-04T23:01:09.917072Z",
     "iopub.status.idle": "2022-04-04T23:01:09.938160Z",
     "shell.execute_reply": "2022-04-04T23:01:09.938685Z",
     "shell.execute_reply.started": "2022-04-04T22:46:15.778487Z"
    },
    "papermill": {
     "duration": 0.033806,
     "end_time": "2022-04-04T23:01:09.938849",
     "exception": false,
     "start_time": "2022-04-04T23:01:09.905043",
     "status": "completed"
    },
    "tags": []
   },
   "outputs": [
    {
     "data": {
      "text/html": [
       "<div>\n",
       "<style scoped>\n",
       "    .dataframe tbody tr th:only-of-type {\n",
       "        vertical-align: middle;\n",
       "    }\n",
       "\n",
       "    .dataframe tbody tr th {\n",
       "        vertical-align: top;\n",
       "    }\n",
       "\n",
       "    .dataframe thead th {\n",
       "        text-align: right;\n",
       "    }\n",
       "</style>\n",
       "<table border=\"1\" class=\"dataframe\">\n",
       "  <thead>\n",
       "    <tr style=\"text-align: right;\">\n",
       "      <th></th>\n",
       "      <th>species</th>\n",
       "      <th>island</th>\n",
       "      <th>culmen_length_mm</th>\n",
       "      <th>culmen_depth_mm</th>\n",
       "      <th>flipper_length_mm</th>\n",
       "      <th>body_mass_g</th>\n",
       "      <th>sex</th>\n",
       "    </tr>\n",
       "  </thead>\n",
       "  <tbody>\n",
       "    <tr>\n",
       "      <th>0</th>\n",
       "      <td>Adelie</td>\n",
       "      <td>Torgersen</td>\n",
       "      <td>39.10</td>\n",
       "      <td>18.70</td>\n",
       "      <td>181.00</td>\n",
       "      <td>3750.00</td>\n",
       "      <td>MALE</td>\n",
       "    </tr>\n",
       "    <tr>\n",
       "      <th>1</th>\n",
       "      <td>Adelie</td>\n",
       "      <td>Torgersen</td>\n",
       "      <td>39.50</td>\n",
       "      <td>17.40</td>\n",
       "      <td>186.00</td>\n",
       "      <td>3800.00</td>\n",
       "      <td>FEMALE</td>\n",
       "    </tr>\n",
       "    <tr>\n",
       "      <th>2</th>\n",
       "      <td>Adelie</td>\n",
       "      <td>Torgersen</td>\n",
       "      <td>40.30</td>\n",
       "      <td>18.00</td>\n",
       "      <td>195.00</td>\n",
       "      <td>3250.00</td>\n",
       "      <td>FEMALE</td>\n",
       "    </tr>\n",
       "    <tr>\n",
       "      <th>3</th>\n",
       "      <td>Adelie</td>\n",
       "      <td>Torgersen</td>\n",
       "      <td>NaN</td>\n",
       "      <td>NaN</td>\n",
       "      <td>NaN</td>\n",
       "      <td>NaN</td>\n",
       "      <td>NaN</td>\n",
       "    </tr>\n",
       "    <tr>\n",
       "      <th>4</th>\n",
       "      <td>Adelie</td>\n",
       "      <td>Torgersen</td>\n",
       "      <td>36.70</td>\n",
       "      <td>19.30</td>\n",
       "      <td>193.00</td>\n",
       "      <td>3450.00</td>\n",
       "      <td>FEMALE</td>\n",
       "    </tr>\n",
       "  </tbody>\n",
       "</table>\n",
       "</div>"
      ],
      "text/plain": [
       "  species     island  culmen_length_mm  culmen_depth_mm  flipper_length_mm  \\\n",
       "0  Adelie  Torgersen             39.10            18.70             181.00   \n",
       "1  Adelie  Torgersen             39.50            17.40             186.00   \n",
       "2  Adelie  Torgersen             40.30            18.00             195.00   \n",
       "3  Adelie  Torgersen               NaN              NaN                NaN   \n",
       "4  Adelie  Torgersen             36.70            19.30             193.00   \n",
       "\n",
       "   body_mass_g     sex  \n",
       "0      3750.00    MALE  \n",
       "1      3800.00  FEMALE  \n",
       "2      3250.00  FEMALE  \n",
       "3          NaN     NaN  \n",
       "4      3450.00  FEMALE  "
      ]
     },
     "execution_count": 3,
     "metadata": {},
     "output_type": "execute_result"
    }
   ],
   "source": [
    "df_size.head()"
   ]
  },
  {
   "cell_type": "markdown",
   "id": "9145cf3a",
   "metadata": {
    "papermill": {
     "duration": 0.010274,
     "end_time": "2022-04-04T23:01:09.959400",
     "exception": false,
     "start_time": "2022-04-04T23:01:09.949126",
     "status": "completed"
    },
    "tags": []
   },
   "source": [
    "One can notice that we have mainly information about penguins' culmen and flipper. It's also noticeable that we have a few NaN values, now we are going to have a deeper dive on the dataset."
   ]
  },
  {
   "cell_type": "markdown",
   "id": "b5df8d2f",
   "metadata": {
    "papermill": {
     "duration": 0.009861,
     "end_time": "2022-04-04T23:01:09.979265",
     "exception": false,
     "start_time": "2022-04-04T23:01:09.969404",
     "status": "completed"
    },
    "tags": []
   },
   "source": [
    "# Which columns does have NaN values?"
   ]
  },
  {
   "cell_type": "code",
   "execution_count": 4,
   "id": "0146e0c2",
   "metadata": {
    "execution": {
     "iopub.execute_input": "2022-04-04T23:01:10.008168Z",
     "iopub.status.busy": "2022-04-04T23:01:10.002968Z",
     "iopub.status.idle": "2022-04-04T23:01:10.012629Z",
     "shell.execute_reply": "2022-04-04T23:01:10.012140Z",
     "shell.execute_reply.started": "2022-04-04T22:46:15.801423Z"
    },
    "papermill": {
     "duration": 0.023415,
     "end_time": "2022-04-04T23:01:10.012767",
     "exception": false,
     "start_time": "2022-04-04T23:01:09.989352",
     "status": "completed"
    },
    "tags": []
   },
   "outputs": [
    {
     "data": {
      "text/plain": [
       "species               0\n",
       "island                0\n",
       "culmen_length_mm      2\n",
       "culmen_depth_mm       2\n",
       "flipper_length_mm     2\n",
       "body_mass_g           2\n",
       "sex                  10\n",
       "dtype: int64"
      ]
     },
     "execution_count": 4,
     "metadata": {},
     "output_type": "execute_result"
    }
   ],
   "source": [
    "df_size.isnull().sum()"
   ]
  },
  {
   "cell_type": "code",
   "execution_count": 5,
   "id": "c23a58bf",
   "metadata": {
    "execution": {
     "iopub.execute_input": "2022-04-04T23:01:10.046127Z",
     "iopub.status.busy": "2022-04-04T23:01:10.045438Z",
     "iopub.status.idle": "2022-04-04T23:01:10.066415Z",
     "shell.execute_reply": "2022-04-04T23:01:10.066927Z",
     "shell.execute_reply.started": "2022-04-04T22:46:15.817548Z"
    },
    "papermill": {
     "duration": 0.044062,
     "end_time": "2022-04-04T23:01:10.067115",
     "exception": false,
     "start_time": "2022-04-04T23:01:10.023053",
     "status": "completed"
    },
    "tags": []
   },
   "outputs": [
    {
     "data": {
      "text/html": [
       "<div>\n",
       "<style scoped>\n",
       "    .dataframe tbody tr th:only-of-type {\n",
       "        vertical-align: middle;\n",
       "    }\n",
       "\n",
       "    .dataframe tbody tr th {\n",
       "        vertical-align: top;\n",
       "    }\n",
       "\n",
       "    .dataframe thead th {\n",
       "        text-align: right;\n",
       "    }\n",
       "</style>\n",
       "<table border=\"1\" class=\"dataframe\">\n",
       "  <thead>\n",
       "    <tr style=\"text-align: right;\">\n",
       "      <th></th>\n",
       "      <th>culmen_length_mm</th>\n",
       "      <th>culmen_depth_mm</th>\n",
       "      <th>flipper_length_mm</th>\n",
       "      <th>body_mass_g</th>\n",
       "    </tr>\n",
       "  </thead>\n",
       "  <tbody>\n",
       "    <tr>\n",
       "      <th>count</th>\n",
       "      <td>342.00</td>\n",
       "      <td>342.00</td>\n",
       "      <td>342.00</td>\n",
       "      <td>342.00</td>\n",
       "    </tr>\n",
       "    <tr>\n",
       "      <th>mean</th>\n",
       "      <td>43.92</td>\n",
       "      <td>17.15</td>\n",
       "      <td>200.92</td>\n",
       "      <td>4201.75</td>\n",
       "    </tr>\n",
       "    <tr>\n",
       "      <th>std</th>\n",
       "      <td>5.46</td>\n",
       "      <td>1.97</td>\n",
       "      <td>14.06</td>\n",
       "      <td>801.95</td>\n",
       "    </tr>\n",
       "    <tr>\n",
       "      <th>min</th>\n",
       "      <td>32.10</td>\n",
       "      <td>13.10</td>\n",
       "      <td>172.00</td>\n",
       "      <td>2700.00</td>\n",
       "    </tr>\n",
       "    <tr>\n",
       "      <th>25%</th>\n",
       "      <td>39.23</td>\n",
       "      <td>15.60</td>\n",
       "      <td>190.00</td>\n",
       "      <td>3550.00</td>\n",
       "    </tr>\n",
       "    <tr>\n",
       "      <th>50%</th>\n",
       "      <td>44.45</td>\n",
       "      <td>17.30</td>\n",
       "      <td>197.00</td>\n",
       "      <td>4050.00</td>\n",
       "    </tr>\n",
       "    <tr>\n",
       "      <th>75%</th>\n",
       "      <td>48.50</td>\n",
       "      <td>18.70</td>\n",
       "      <td>213.00</td>\n",
       "      <td>4750.00</td>\n",
       "    </tr>\n",
       "    <tr>\n",
       "      <th>max</th>\n",
       "      <td>59.60</td>\n",
       "      <td>21.50</td>\n",
       "      <td>231.00</td>\n",
       "      <td>6300.00</td>\n",
       "    </tr>\n",
       "  </tbody>\n",
       "</table>\n",
       "</div>"
      ],
      "text/plain": [
       "       culmen_length_mm  culmen_depth_mm  flipper_length_mm  body_mass_g\n",
       "count            342.00           342.00             342.00       342.00\n",
       "mean              43.92            17.15             200.92      4201.75\n",
       "std                5.46             1.97              14.06       801.95\n",
       "min               32.10            13.10             172.00      2700.00\n",
       "25%               39.23            15.60             190.00      3550.00\n",
       "50%               44.45            17.30             197.00      4050.00\n",
       "75%               48.50            18.70             213.00      4750.00\n",
       "max               59.60            21.50             231.00      6300.00"
      ]
     },
     "execution_count": 5,
     "metadata": {},
     "output_type": "execute_result"
    }
   ],
   "source": [
    "df_size.describe()"
   ]
  },
  {
   "cell_type": "markdown",
   "id": "1d9d9318",
   "metadata": {
    "papermill": {
     "duration": 0.010378,
     "end_time": "2022-04-04T23:01:10.088126",
     "exception": false,
     "start_time": "2022-04-04T23:01:10.077748",
     "status": "completed"
    },
    "tags": []
   },
   "source": [
    "As we have only a few missing values we are going to drop those lines."
   ]
  },
  {
   "cell_type": "code",
   "execution_count": 6,
   "id": "134e88b0",
   "metadata": {
    "execution": {
     "iopub.execute_input": "2022-04-04T23:01:10.125970Z",
     "iopub.status.busy": "2022-04-04T23:01:10.124632Z",
     "iopub.status.idle": "2022-04-04T23:01:10.137417Z",
     "shell.execute_reply": "2022-04-04T23:01:10.138242Z",
     "shell.execute_reply.started": "2022-04-04T22:55:52.985359Z"
    },
    "papermill": {
     "duration": 0.038682,
     "end_time": "2022-04-04T23:01:10.138481",
     "exception": false,
     "start_time": "2022-04-04T23:01:10.099799",
     "status": "completed"
    },
    "tags": []
   },
   "outputs": [
    {
     "data": {
      "text/plain": [
       "species              0\n",
       "island               0\n",
       "culmen_length_mm     0\n",
       "culmen_depth_mm      0\n",
       "flipper_length_mm    0\n",
       "body_mass_g          0\n",
       "sex                  0\n",
       "dtype: int64"
      ]
     },
     "execution_count": 6,
     "metadata": {},
     "output_type": "execute_result"
    }
   ],
   "source": [
    "df_size.dropna(inplace=True)\n",
    "\n",
    "# Checking if we truly have no missing values anymore\n",
    "\n",
    "df_size.isnull().sum()"
   ]
  },
  {
   "cell_type": "markdown",
   "id": "70ad8b49",
   "metadata": {
    "papermill": {
     "duration": 0.015663,
     "end_time": "2022-04-04T23:01:10.166126",
     "exception": false,
     "start_time": "2022-04-04T23:01:10.150463",
     "status": "completed"
    },
    "tags": []
   },
   "source": [
    "# How many different species does the dataset have?"
   ]
  },
  {
   "cell_type": "code",
   "execution_count": 7,
   "id": "504a978f",
   "metadata": {
    "execution": {
     "iopub.execute_input": "2022-04-04T23:01:10.201450Z",
     "iopub.status.busy": "2022-04-04T23:01:10.200371Z",
     "iopub.status.idle": "2022-04-04T23:01:10.205662Z",
     "shell.execute_reply": "2022-04-04T23:01:10.206165Z",
     "shell.execute_reply.started": "2022-04-04T22:57:55.593973Z"
    },
    "papermill": {
     "duration": 0.025701,
     "end_time": "2022-04-04T23:01:10.206342",
     "exception": false,
     "start_time": "2022-04-04T23:01:10.180641",
     "status": "completed"
    },
    "tags": []
   },
   "outputs": [
    {
     "data": {
      "text/plain": [
       "Adelie       146\n",
       "Gentoo       120\n",
       "Chinstrap     68\n",
       "Name: species, dtype: int64"
      ]
     },
     "execution_count": 7,
     "metadata": {},
     "output_type": "execute_result"
    }
   ],
   "source": [
    "df_size['species'].value_counts()"
   ]
  }
 ],
 "metadata": {
  "kernelspec": {
   "display_name": "Python 3",
   "language": "python",
   "name": "python3"
  },
  "language_info": {
   "codemirror_mode": {
    "name": "ipython",
    "version": 3
   },
   "file_extension": ".py",
   "mimetype": "text/x-python",
   "name": "python",
   "nbconvert_exporter": "python",
   "pygments_lexer": "ipython3",
   "version": "3.7.12"
  },
  "papermill": {
   "default_parameters": {},
   "duration": 11.234548,
   "end_time": "2022-04-04T23:01:10.933285",
   "environment_variables": {},
   "exception": null,
   "input_path": "__notebook__.ipynb",
   "output_path": "__notebook__.ipynb",
   "parameters": {},
   "start_time": "2022-04-04T23:00:59.698737",
   "version": "2.3.3"
  }
 },
 "nbformat": 4,
 "nbformat_minor": 5
}
