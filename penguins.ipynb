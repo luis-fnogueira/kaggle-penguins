{
 "cells": [
  {
   "cell_type": "code",
   "execution_count": 1,
   "id": "ffbc8b1b",
   "metadata": {
    "_cell_guid": "b1076dfc-b9ad-4769-8c92-a6c4dae69d19",
    "_uuid": "8f2839f25d086af736a60e9eeb907d3b93b6e0e5",
    "execution": {
     "iopub.execute_input": "2022-04-06T00:18:28.716861Z",
     "iopub.status.busy": "2022-04-06T00:18:28.715561Z",
     "iopub.status.idle": "2022-04-06T00:18:29.876505Z",
     "shell.execute_reply": "2022-04-06T00:18:29.877237Z",
     "shell.execute_reply.started": "2022-04-05T23:22:54.297897Z"
    },
    "papermill": {
     "duration": 1.186344,
     "end_time": "2022-04-06T00:18:29.877634",
     "exception": false,
     "start_time": "2022-04-06T00:18:28.691290",
     "status": "completed"
    },
    "tags": []
   },
   "outputs": [
    {
     "name": "stdout",
     "output_type": "stream",
     "text": [
      "/kaggle/input/palmer-archipelago-antarctica-penguin-data/penguins_size.csv\n",
      "/kaggle/input/palmer-archipelago-antarctica-penguin-data/penguins_lter.csv\n"
     ]
    }
   ],
   "source": [
    "# This Python 3 environment comes with many helpful analytics libraries installed\n",
    "# It is defined by the kaggle/python Docker image: https://github.com/kaggle/docker-python\n",
    "# For example, here's several helpful packages to load\n",
    "\n",
    "import numpy as np # linear algebra\n",
    "import pandas as pd # data processing, CSV file I/O (e.g. pd.read_csv)\n",
    "%matplotlib inline\n",
    "import seaborn as sns\n",
    "\n",
    "# Setting the float precision to 2 decimal places.\n",
    "\n",
    "pd.set_option(\"precision\", 2)\n",
    "pd.options.display.float_format = '{:.2f}'.format\n",
    "\n",
    "# Input data files are available in the read-only \"../input/\" directory\n",
    "# For example, running this (by clicking run or pressing Shift+Enter) will list all files under the input directory\n",
    "\n",
    "import os\n",
    "for dirname, _, filenames in os.walk('/kaggle/input'):\n",
    "    for filename in filenames:\n",
    "        print(os.path.join(dirname, filename))\n",
    "\n",
    "# You can write up to 20GB to the current directory (/kaggle/working/) that gets preserved as output when you create a version using \"Save & Run All\" \n",
    "# You can also write temporary files to /kaggle/temp/, but they won't be saved outside of the current session"
   ]
  },
  {
   "cell_type": "markdown",
   "id": "fa2c6637",
   "metadata": {
    "papermill": {
     "duration": 0.019583,
     "end_time": "2022-04-06T00:18:29.919084",
     "exception": false,
     "start_time": "2022-04-06T00:18:29.899501",
     "status": "completed"
    },
    "tags": []
   },
   "source": [
    "# Inputting the data \n",
    "\n",
    "We are going to use the penguins_size.csv because it is a simplified dataset, as written in the description on Kaggle."
   ]
  },
  {
   "cell_type": "code",
   "execution_count": 2,
   "id": "4a3678b3",
   "metadata": {
    "execution": {
     "iopub.execute_input": "2022-04-06T00:18:29.965118Z",
     "iopub.status.busy": "2022-04-06T00:18:29.964012Z",
     "iopub.status.idle": "2022-04-06T00:18:29.978442Z",
     "shell.execute_reply": "2022-04-06T00:18:29.978949Z",
     "shell.execute_reply.started": "2022-04-05T23:22:55.514094Z"
    },
    "papermill": {
     "duration": 0.040178,
     "end_time": "2022-04-06T00:18:29.979142",
     "exception": false,
     "start_time": "2022-04-06T00:18:29.938964",
     "status": "completed"
    },
    "tags": []
   },
   "outputs": [],
   "source": [
    "df_size = pd.read_csv('/kaggle/input/palmer-archipelago-antarctica-penguin-data/penguins_size.csv')"
   ]
  },
  {
   "cell_type": "markdown",
   "id": "1d0cbd82",
   "metadata": {
    "papermill": {
     "duration": 0.020898,
     "end_time": "2022-04-06T00:18:30.020604",
     "exception": false,
     "start_time": "2022-04-06T00:18:29.999706",
     "status": "completed"
    },
    "tags": []
   },
   "source": [
    "# First glances on the dataset\n",
    "\n",
    "Let's have an overview of the dataset."
   ]
  },
  {
   "cell_type": "code",
   "execution_count": 3,
   "id": "944380c5",
   "metadata": {
    "execution": {
     "iopub.execute_input": "2022-04-06T00:18:30.065150Z",
     "iopub.status.busy": "2022-04-06T00:18:30.064106Z",
     "iopub.status.idle": "2022-04-06T00:18:30.085559Z",
     "shell.execute_reply": "2022-04-06T00:18:30.086098Z",
     "shell.execute_reply.started": "2022-04-05T23:22:55.533691Z"
    },
    "papermill": {
     "duration": 0.045773,
     "end_time": "2022-04-06T00:18:30.086305",
     "exception": false,
     "start_time": "2022-04-06T00:18:30.040532",
     "status": "completed"
    },
    "tags": []
   },
   "outputs": [
    {
     "data": {
      "text/html": [
       "<div>\n",
       "<style scoped>\n",
       "    .dataframe tbody tr th:only-of-type {\n",
       "        vertical-align: middle;\n",
       "    }\n",
       "\n",
       "    .dataframe tbody tr th {\n",
       "        vertical-align: top;\n",
       "    }\n",
       "\n",
       "    .dataframe thead th {\n",
       "        text-align: right;\n",
       "    }\n",
       "</style>\n",
       "<table border=\"1\" class=\"dataframe\">\n",
       "  <thead>\n",
       "    <tr style=\"text-align: right;\">\n",
       "      <th></th>\n",
       "      <th>species</th>\n",
       "      <th>island</th>\n",
       "      <th>culmen_length_mm</th>\n",
       "      <th>culmen_depth_mm</th>\n",
       "      <th>flipper_length_mm</th>\n",
       "      <th>body_mass_g</th>\n",
       "      <th>sex</th>\n",
       "    </tr>\n",
       "  </thead>\n",
       "  <tbody>\n",
       "    <tr>\n",
       "      <th>0</th>\n",
       "      <td>Adelie</td>\n",
       "      <td>Torgersen</td>\n",
       "      <td>39.10</td>\n",
       "      <td>18.70</td>\n",
       "      <td>181.00</td>\n",
       "      <td>3750.00</td>\n",
       "      <td>MALE</td>\n",
       "    </tr>\n",
       "    <tr>\n",
       "      <th>1</th>\n",
       "      <td>Adelie</td>\n",
       "      <td>Torgersen</td>\n",
       "      <td>39.50</td>\n",
       "      <td>17.40</td>\n",
       "      <td>186.00</td>\n",
       "      <td>3800.00</td>\n",
       "      <td>FEMALE</td>\n",
       "    </tr>\n",
       "    <tr>\n",
       "      <th>2</th>\n",
       "      <td>Adelie</td>\n",
       "      <td>Torgersen</td>\n",
       "      <td>40.30</td>\n",
       "      <td>18.00</td>\n",
       "      <td>195.00</td>\n",
       "      <td>3250.00</td>\n",
       "      <td>FEMALE</td>\n",
       "    </tr>\n",
       "    <tr>\n",
       "      <th>3</th>\n",
       "      <td>Adelie</td>\n",
       "      <td>Torgersen</td>\n",
       "      <td>NaN</td>\n",
       "      <td>NaN</td>\n",
       "      <td>NaN</td>\n",
       "      <td>NaN</td>\n",
       "      <td>NaN</td>\n",
       "    </tr>\n",
       "    <tr>\n",
       "      <th>4</th>\n",
       "      <td>Adelie</td>\n",
       "      <td>Torgersen</td>\n",
       "      <td>36.70</td>\n",
       "      <td>19.30</td>\n",
       "      <td>193.00</td>\n",
       "      <td>3450.00</td>\n",
       "      <td>FEMALE</td>\n",
       "    </tr>\n",
       "  </tbody>\n",
       "</table>\n",
       "</div>"
      ],
      "text/plain": [
       "  species     island  culmen_length_mm  culmen_depth_mm  flipper_length_mm  \\\n",
       "0  Adelie  Torgersen             39.10            18.70             181.00   \n",
       "1  Adelie  Torgersen             39.50            17.40             186.00   \n",
       "2  Adelie  Torgersen             40.30            18.00             195.00   \n",
       "3  Adelie  Torgersen               NaN              NaN                NaN   \n",
       "4  Adelie  Torgersen             36.70            19.30             193.00   \n",
       "\n",
       "   body_mass_g     sex  \n",
       "0      3750.00    MALE  \n",
       "1      3800.00  FEMALE  \n",
       "2      3250.00  FEMALE  \n",
       "3          NaN     NaN  \n",
       "4      3450.00  FEMALE  "
      ]
     },
     "execution_count": 3,
     "metadata": {},
     "output_type": "execute_result"
    }
   ],
   "source": [
    "df_size.head()"
   ]
  },
  {
   "cell_type": "markdown",
   "id": "7dbedd66",
   "metadata": {
    "papermill": {
     "duration": 0.020633,
     "end_time": "2022-04-06T00:18:30.128304",
     "exception": false,
     "start_time": "2022-04-06T00:18:30.107671",
     "status": "completed"
    },
    "tags": []
   },
   "source": [
    "One can notice that we have mainly information about penguins' culmen and flipper. It's also noticeable that we have a few NaN values, now we are going to have a deeper dive on the dataset."
   ]
  },
  {
   "cell_type": "markdown",
   "id": "6e239ef1",
   "metadata": {
    "papermill": {
     "duration": 0.020588,
     "end_time": "2022-04-06T00:18:30.169471",
     "exception": false,
     "start_time": "2022-04-06T00:18:30.148883",
     "status": "completed"
    },
    "tags": []
   },
   "source": [
    "# Which columns does have NaN values?"
   ]
  },
  {
   "cell_type": "code",
   "execution_count": 4,
   "id": "f4482473",
   "metadata": {
    "execution": {
     "iopub.execute_input": "2022-04-06T00:18:30.215015Z",
     "iopub.status.busy": "2022-04-06T00:18:30.213830Z",
     "iopub.status.idle": "2022-04-06T00:18:30.222476Z",
     "shell.execute_reply": "2022-04-06T00:18:30.222966Z",
     "shell.execute_reply.started": "2022-04-05T23:22:55.561510Z"
    },
    "papermill": {
     "duration": 0.033084,
     "end_time": "2022-04-06T00:18:30.223158",
     "exception": false,
     "start_time": "2022-04-06T00:18:30.190074",
     "status": "completed"
    },
    "tags": []
   },
   "outputs": [
    {
     "data": {
      "text/plain": [
       "species               0\n",
       "island                0\n",
       "culmen_length_mm      2\n",
       "culmen_depth_mm       2\n",
       "flipper_length_mm     2\n",
       "body_mass_g           2\n",
       "sex                  10\n",
       "dtype: int64"
      ]
     },
     "execution_count": 4,
     "metadata": {},
     "output_type": "execute_result"
    }
   ],
   "source": [
    "df_size.isnull().sum()"
   ]
  },
  {
   "cell_type": "code",
   "execution_count": 5,
   "id": "48938a8f",
   "metadata": {
    "execution": {
     "iopub.execute_input": "2022-04-06T00:18:30.270445Z",
     "iopub.status.busy": "2022-04-06T00:18:30.269407Z",
     "iopub.status.idle": "2022-04-06T00:18:30.301340Z",
     "shell.execute_reply": "2022-04-06T00:18:30.300801Z",
     "shell.execute_reply.started": "2022-04-05T23:22:55.571730Z"
    },
    "papermill": {
     "duration": 0.05671,
     "end_time": "2022-04-06T00:18:30.301474",
     "exception": false,
     "start_time": "2022-04-06T00:18:30.244764",
     "status": "completed"
    },
    "tags": []
   },
   "outputs": [
    {
     "data": {
      "text/html": [
       "<div>\n",
       "<style scoped>\n",
       "    .dataframe tbody tr th:only-of-type {\n",
       "        vertical-align: middle;\n",
       "    }\n",
       "\n",
       "    .dataframe tbody tr th {\n",
       "        vertical-align: top;\n",
       "    }\n",
       "\n",
       "    .dataframe thead th {\n",
       "        text-align: right;\n",
       "    }\n",
       "</style>\n",
       "<table border=\"1\" class=\"dataframe\">\n",
       "  <thead>\n",
       "    <tr style=\"text-align: right;\">\n",
       "      <th></th>\n",
       "      <th>culmen_length_mm</th>\n",
       "      <th>culmen_depth_mm</th>\n",
       "      <th>flipper_length_mm</th>\n",
       "      <th>body_mass_g</th>\n",
       "    </tr>\n",
       "  </thead>\n",
       "  <tbody>\n",
       "    <tr>\n",
       "      <th>count</th>\n",
       "      <td>342.00</td>\n",
       "      <td>342.00</td>\n",
       "      <td>342.00</td>\n",
       "      <td>342.00</td>\n",
       "    </tr>\n",
       "    <tr>\n",
       "      <th>mean</th>\n",
       "      <td>43.92</td>\n",
       "      <td>17.15</td>\n",
       "      <td>200.92</td>\n",
       "      <td>4201.75</td>\n",
       "    </tr>\n",
       "    <tr>\n",
       "      <th>std</th>\n",
       "      <td>5.46</td>\n",
       "      <td>1.97</td>\n",
       "      <td>14.06</td>\n",
       "      <td>801.95</td>\n",
       "    </tr>\n",
       "    <tr>\n",
       "      <th>min</th>\n",
       "      <td>32.10</td>\n",
       "      <td>13.10</td>\n",
       "      <td>172.00</td>\n",
       "      <td>2700.00</td>\n",
       "    </tr>\n",
       "    <tr>\n",
       "      <th>25%</th>\n",
       "      <td>39.23</td>\n",
       "      <td>15.60</td>\n",
       "      <td>190.00</td>\n",
       "      <td>3550.00</td>\n",
       "    </tr>\n",
       "    <tr>\n",
       "      <th>50%</th>\n",
       "      <td>44.45</td>\n",
       "      <td>17.30</td>\n",
       "      <td>197.00</td>\n",
       "      <td>4050.00</td>\n",
       "    </tr>\n",
       "    <tr>\n",
       "      <th>75%</th>\n",
       "      <td>48.50</td>\n",
       "      <td>18.70</td>\n",
       "      <td>213.00</td>\n",
       "      <td>4750.00</td>\n",
       "    </tr>\n",
       "    <tr>\n",
       "      <th>max</th>\n",
       "      <td>59.60</td>\n",
       "      <td>21.50</td>\n",
       "      <td>231.00</td>\n",
       "      <td>6300.00</td>\n",
       "    </tr>\n",
       "  </tbody>\n",
       "</table>\n",
       "</div>"
      ],
      "text/plain": [
       "       culmen_length_mm  culmen_depth_mm  flipper_length_mm  body_mass_g\n",
       "count            342.00           342.00             342.00       342.00\n",
       "mean              43.92            17.15             200.92      4201.75\n",
       "std                5.46             1.97              14.06       801.95\n",
       "min               32.10            13.10             172.00      2700.00\n",
       "25%               39.23            15.60             190.00      3550.00\n",
       "50%               44.45            17.30             197.00      4050.00\n",
       "75%               48.50            18.70             213.00      4750.00\n",
       "max               59.60            21.50             231.00      6300.00"
      ]
     },
     "execution_count": 5,
     "metadata": {},
     "output_type": "execute_result"
    }
   ],
   "source": [
    "df_size.describe()"
   ]
  },
  {
   "cell_type": "markdown",
   "id": "fb6cafe1",
   "metadata": {
    "papermill": {
     "duration": 0.021084,
     "end_time": "2022-04-06T00:18:30.344011",
     "exception": false,
     "start_time": "2022-04-06T00:18:30.322927",
     "status": "completed"
    },
    "tags": []
   },
   "source": [
    "As we have only a few missing values we are going to drop those lines."
   ]
  },
  {
   "cell_type": "code",
   "execution_count": 6,
   "id": "ecd33f1e",
   "metadata": {
    "execution": {
     "iopub.execute_input": "2022-04-06T00:18:30.390848Z",
     "iopub.status.busy": "2022-04-06T00:18:30.389889Z",
     "iopub.status.idle": "2022-04-06T00:18:30.400144Z",
     "shell.execute_reply": "2022-04-06T00:18:30.400737Z",
     "shell.execute_reply.started": "2022-04-05T23:22:55.614510Z"
    },
    "papermill": {
     "duration": 0.035286,
     "end_time": "2022-04-06T00:18:30.400912",
     "exception": false,
     "start_time": "2022-04-06T00:18:30.365626",
     "status": "completed"
    },
    "tags": []
   },
   "outputs": [
    {
     "data": {
      "text/plain": [
       "species              0\n",
       "island               0\n",
       "culmen_length_mm     0\n",
       "culmen_depth_mm      0\n",
       "flipper_length_mm    0\n",
       "body_mass_g          0\n",
       "sex                  0\n",
       "dtype: int64"
      ]
     },
     "execution_count": 6,
     "metadata": {},
     "output_type": "execute_result"
    }
   ],
   "source": [
    "df_size.dropna(inplace=True)\n",
    "\n",
    "# Checking if we truly have no missing values anymore\n",
    "\n",
    "df_size.isnull().sum()"
   ]
  },
  {
   "cell_type": "markdown",
   "id": "f1efa692",
   "metadata": {
    "papermill": {
     "duration": 0.021767,
     "end_time": "2022-04-06T00:18:30.444316",
     "exception": false,
     "start_time": "2022-04-06T00:18:30.422549",
     "status": "completed"
    },
    "tags": []
   },
   "source": [
    "# How many different species does the dataset have?"
   ]
  },
  {
   "cell_type": "code",
   "execution_count": 7,
   "id": "b1e593b7",
   "metadata": {
    "execution": {
     "iopub.execute_input": "2022-04-06T00:18:30.492501Z",
     "iopub.status.busy": "2022-04-06T00:18:30.491864Z",
     "iopub.status.idle": "2022-04-06T00:18:30.498795Z",
     "shell.execute_reply": "2022-04-06T00:18:30.499307Z",
     "shell.execute_reply.started": "2022-04-05T23:22:55.628335Z"
    },
    "papermill": {
     "duration": 0.031957,
     "end_time": "2022-04-06T00:18:30.499484",
     "exception": false,
     "start_time": "2022-04-06T00:18:30.467527",
     "status": "completed"
    },
    "tags": []
   },
   "outputs": [
    {
     "data": {
      "text/plain": [
       "Adelie       146\n",
       "Gentoo       120\n",
       "Chinstrap     68\n",
       "Name: species, dtype: int64"
      ]
     },
     "execution_count": 7,
     "metadata": {},
     "output_type": "execute_result"
    }
   ],
   "source": [
    "df_size['species'].value_counts()"
   ]
  },
  {
   "cell_type": "code",
   "execution_count": 8,
   "id": "c5b52a8a",
   "metadata": {
    "execution": {
     "iopub.execute_input": "2022-04-06T00:18:30.547569Z",
     "iopub.status.busy": "2022-04-06T00:18:30.546867Z",
     "iopub.status.idle": "2022-04-06T00:18:30.554106Z",
     "shell.execute_reply": "2022-04-06T00:18:30.554708Z",
     "shell.execute_reply.started": "2022-04-05T23:22:55.644299Z"
    },
    "papermill": {
     "duration": 0.032976,
     "end_time": "2022-04-06T00:18:30.554879",
     "exception": false,
     "start_time": "2022-04-06T00:18:30.521903",
     "status": "completed"
    },
    "tags": []
   },
   "outputs": [
    {
     "data": {
      "text/plain": [
       "Adelie      0.44\n",
       "Gentoo      0.36\n",
       "Chinstrap   0.20\n",
       "Name: species, dtype: float64"
      ]
     },
     "execution_count": 8,
     "metadata": {},
     "output_type": "execute_result"
    }
   ],
   "source": [
    "df_size['species'].value_counts(normalize=True)"
   ]
  },
  {
   "cell_type": "markdown",
   "id": "6cc66a20",
   "metadata": {
    "papermill": {
     "duration": 0.023018,
     "end_time": "2022-04-06T00:18:30.600675",
     "exception": false,
     "start_time": "2022-04-06T00:18:30.577657",
     "status": "completed"
    },
    "tags": []
   },
   "source": [
    "There are 3 different species on the dataset, which almost half is from the Adelie specie."
   ]
  },
  {
   "cell_type": "markdown",
   "id": "5e016e36",
   "metadata": {
    "papermill": {
     "duration": 0.022369,
     "end_time": "2022-04-06T00:18:30.645513",
     "exception": false,
     "start_time": "2022-04-06T00:18:30.623144",
     "status": "completed"
    },
    "tags": []
   },
   "source": [
    "# Does the culmen length grows according to the body mass?"
   ]
  },
  {
   "cell_type": "code",
   "execution_count": 9,
   "id": "ba1ac2d0",
   "metadata": {
    "execution": {
     "iopub.execute_input": "2022-04-06T00:18:30.693601Z",
     "iopub.status.busy": "2022-04-06T00:18:30.692977Z",
     "iopub.status.idle": "2022-04-06T00:18:33.124138Z",
     "shell.execute_reply": "2022-04-06T00:18:33.124649Z",
     "shell.execute_reply.started": "2022-04-05T23:22:55.655639Z"
    },
    "papermill": {
     "duration": 2.456705,
     "end_time": "2022-04-06T00:18:33.124826",
     "exception": false,
     "start_time": "2022-04-06T00:18:30.668121",
     "status": "completed"
    },
    "tags": []
   },
   "outputs": [
    {
     "data": {
      "text/plain": [
       "<AxesSubplot:xlabel='body_mass_g', ylabel='culmen_length_mm'>"
      ]
     },
     "execution_count": 9,
     "metadata": {},
     "output_type": "execute_result"
    },
    {
     "data": {
      "image/png": "[encoded data removed]",
      "text/plain": [
       "<Figure size 432x288 with 1 Axes>"
      ]
     },
     "metadata": {},
     "output_type": "display_data"
    }
   ],
   "source": [
    "sns.set_theme(style=\"whitegrid\")\n",
    "\n",
    "\n",
    "\n",
    "sns.lineplot(x=df_size['body_mass_g'],y=df_size['culmen_length_mm'], \\\n",
    "             palette=\"tab10\", linewidth=2.5)"
   ]
  },
  {
   "cell_type": "markdown",
   "id": "3e6b59b5",
   "metadata": {
    "papermill": {
     "duration": 0.025604,
     "end_time": "2022-04-06T00:18:33.176755",
     "exception": false,
     "start_time": "2022-04-06T00:18:33.151151",
     "status": "completed"
    },
    "tags": []
   },
   "source": [
    "We can see a slight relation between these two variables, but it's not linear."
   ]
  },
  {
   "cell_type": "markdown",
   "id": "995c796a",
   "metadata": {
    "papermill": {
     "duration": 0.024999,
     "end_time": "2022-04-06T00:18:33.226653",
     "exception": false,
     "start_time": "2022-04-06T00:18:33.201654",
     "status": "completed"
    },
    "tags": []
   },
   "source": [
    "# How's the body mass according to sex?"
   ]
  },
  {
   "cell_type": "code",
   "execution_count": 10,
   "id": "672d0c82",
   "metadata": {
    "execution": {
     "iopub.execute_input": "2022-04-06T00:18:33.283797Z",
     "iopub.status.busy": "2022-04-06T00:18:33.282779Z",
     "iopub.status.idle": "2022-04-06T00:18:33.498774Z",
     "shell.execute_reply": "2022-04-06T00:18:33.499277Z",
     "shell.execute_reply.started": "2022-04-05T23:44:16.226610Z"
    },
    "papermill": {
     "duration": 0.248141,
     "end_time": "2022-04-06T00:18:33.499458",
     "exception": false,
     "start_time": "2022-04-06T00:18:33.251317",
     "status": "completed"
    },
    "tags": []
   },
   "outputs": [
    {
     "data": {
      "text/plain": [
       "<AxesSubplot:xlabel='sex', ylabel='body_mass_g'>"
      ]
     },
     "execution_count": 10,
     "metadata": {},
     "output_type": "execute_result"
    },
    {
     "data": {
      "image/png": "[encoded data removed]",
      "text/plain": [
       "<Figure size 432x288 with 1 Axes>"
      ]
     },
     "metadata": {},
     "output_type": "display_data"
    }
   ],
   "source": [
    "# \n",
    "sex = ['MALE', 'FEMALE'] \n",
    "    \n",
    "# selecting rows based on condition \n",
    "df_sex = df_size.loc[df_size['sex'].isin(sex)] \n",
    "    \n",
    "sns.boxplot(x=df_sex[\"sex\"], y=df_sex[\"body_mass_g\"],\n",
    "             palette=[\"m\", \"g\"])"
   ]
  },
  {
   "cell_type": "code",
   "execution_count": 11,
   "id": "26b5e385",
   "metadata": {
    "execution": {
     "iopub.execute_input": "2022-04-06T00:18:33.557556Z",
     "iopub.status.busy": "2022-04-06T00:18:33.554897Z",
     "iopub.status.idle": "2022-04-06T00:18:33.565860Z",
     "shell.execute_reply": "2022-04-06T00:18:33.565228Z",
     "shell.execute_reply.started": "2022-04-06T00:10:49.968963Z"
    },
    "papermill": {
     "duration": 0.040088,
     "end_time": "2022-04-06T00:18:33.565994",
     "exception": false,
     "start_time": "2022-04-06T00:18:33.525906",
     "status": "completed"
    },
    "tags": []
   },
   "outputs": [
    {
     "data": {
      "text/plain": [
       "count    168.00\n",
       "mean    4545.68\n",
       "std      787.63\n",
       "min     3250.00\n",
       "25%     3900.00\n",
       "50%     4300.00\n",
       "75%     5312.50\n",
       "max     6300.00\n",
       "Name: body_mass_g, dtype: float64"
      ]
     },
     "execution_count": 11,
     "metadata": {},
     "output_type": "execute_result"
    }
   ],
   "source": [
    "df_male = df_sex.loc[df_size['sex']=='MALE']\n",
    "\n",
    "df_male['body_mass_g'].describe()"
   ]
  },
  {
   "cell_type": "code",
   "execution_count": 12,
   "id": "632f76b6",
   "metadata": {
    "execution": {
     "iopub.execute_input": "2022-04-06T00:18:33.630766Z",
     "iopub.status.busy": "2022-04-06T00:18:33.629856Z",
     "iopub.status.idle": "2022-04-06T00:18:33.633273Z",
     "shell.execute_reply": "2022-04-06T00:18:33.633770Z",
     "shell.execute_reply.started": "2022-04-06T00:11:10.033619Z"
    },
    "papermill": {
     "duration": 0.041269,
     "end_time": "2022-04-06T00:18:33.633943",
     "exception": false,
     "start_time": "2022-04-06T00:18:33.592674",
     "status": "completed"
    },
    "tags": []
   },
   "outputs": [
    {
     "data": {
      "text/plain": [
       "count    165.00\n",
       "mean    3862.27\n",
       "std      666.17\n",
       "min     2700.00\n",
       "25%     3350.00\n",
       "50%     3650.00\n",
       "75%     4550.00\n",
       "max     5200.00\n",
       "Name: body_mass_g, dtype: float64"
      ]
     },
     "execution_count": 12,
     "metadata": {},
     "output_type": "execute_result"
    }
   ],
   "source": [
    "df_female = df_sex.loc[df_size['sex']=='FEMALE']\n",
    "\n",
    "df_female['body_mass_g'].describe()"
   ]
  },
  {
   "cell_type": "markdown",
   "id": "01297c03",
   "metadata": {
    "papermill": {
     "duration": 0.026838,
     "end_time": "2022-04-06T00:18:33.688185",
     "exception": false,
     "start_time": "2022-04-06T00:18:33.661347",
     "status": "completed"
    },
    "tags": []
   },
   "source": [
    "### One can understand that there is a considerable difference between female and male body mass.\n",
    "\n",
    "About 25% of male penguins weighs more than the maximum of females penguins."
   ]
  }
 ],
 "metadata": {
  "kernelspec": {
   "display_name": "Python 3",
   "language": "python",
   "name": "python3"
  },
  "language_info": {
   "codemirror_mode": {
    "name": "ipython",
    "version": 3
   },
   "file_extension": ".py",
   "mimetype": "text/x-python",
   "name": "python",
   "nbconvert_exporter": "python",
   "pygments_lexer": "ipython3",
   "version": "3.7.12"
  },
  "papermill": {
   "default_parameters": {},
   "duration": 15.836169,
   "end_time": "2022-04-06T00:18:34.425763",
   "environment_variables": {},
   "exception": null,
   "input_path": "__notebook__.ipynb",
   "output_path": "__notebook__.ipynb",
   "parameters": {},
   "start_time": "2022-04-06T00:18:18.589594",
   "version": "2.3.3"
  }
 },
 "nbformat": 4,
 "nbformat_minor": 5
}
