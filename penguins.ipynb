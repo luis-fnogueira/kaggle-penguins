{
 "cells": [
  {
   "cell_type": "code",
   "execution_count": 1,
   "id": "0183ea0a",
   "metadata": {
    "_cell_guid": "b1076dfc-b9ad-4769-8c92-a6c4dae69d19",
    "_uuid": "8f2839f25d086af736a60e9eeb907d3b93b6e0e5",
    "execution": {
     "iopub.execute_input": "2022-04-04T23:27:41.845311Z",
     "iopub.status.busy": "2022-04-04T23:27:41.844035Z",
     "iopub.status.idle": "2022-04-04T23:27:43.031887Z",
     "shell.execute_reply": "2022-04-04T23:27:43.031085Z",
     "shell.execute_reply.started": "2022-04-04T22:46:15.715533Z"
    },
    "papermill": {
     "duration": 1.209689,
     "end_time": "2022-04-04T23:27:43.032087",
     "exception": false,
     "start_time": "2022-04-04T23:27:41.822398",
     "status": "completed"
    },
    "tags": []
   },
   "outputs": [
    {
     "name": "stdout",
     "output_type": "stream",
     "text": [
      "/kaggle/input/palmer-archipelago-antarctica-penguin-data/penguins_size.csv\n",
      "/kaggle/input/palmer-archipelago-antarctica-penguin-data/penguins_lter.csv\n"
     ]
    }
   ],
   "source": [
    "# This Python 3 environment comes with many helpful analytics libraries installed\n",
    "# It is defined by the kaggle/python Docker image: https://github.com/kaggle/docker-python\n",
    "# For example, here's several helpful packages to load\n",
    "\n",
    "import numpy as np # linear algebra\n",
    "import pandas as pd # data processing, CSV file I/O (e.g. pd.read_csv)\n",
    "%matplotlib inline\n",
    "import seaborn as sns\n",
    "\n",
    "# Setting the float precision to 2 decimal places.\n",
    "\n",
    "pd.set_option(\"precision\", 2)\n",
    "pd.options.display.float_format = '{:.2f}'.format\n",
    "\n",
    "# Input data files are available in the read-only \"../input/\" directory\n",
    "# For example, running this (by clicking run or pressing Shift+Enter) will list all files under the input directory\n",
    "\n",
    "import os\n",
    "for dirname, _, filenames in os.walk('/kaggle/input'):\n",
    "    for filename in filenames:\n",
    "        print(os.path.join(dirname, filename))\n",
    "\n",
    "# You can write up to 20GB to the current directory (/kaggle/working/) that gets preserved as output when you create a version using \"Save & Run All\" \n",
    "# You can also write temporary files to /kaggle/temp/, but they won't be saved outside of the current session"
   ]
  },
  {
   "cell_type": "markdown",
   "id": "5ae3e6b5",
   "metadata": {
    "papermill": {
     "duration": 0.015539,
     "end_time": "2022-04-04T23:27:43.064192",
     "exception": false,
     "start_time": "2022-04-04T23:27:43.048653",
     "status": "completed"
    },
    "tags": []
   },
   "source": [
    "# Inputting the data \n",
    "\n",
    "We are going to use the penguins_size.csv because it is a simplified dataset, as written in the description on Kaggle."
   ]
  },
  {
   "cell_type": "code",
   "execution_count": 2,
   "id": "1daf25f6",
   "metadata": {
    "execution": {
     "iopub.execute_input": "2022-04-04T23:27:43.102781Z",
     "iopub.status.busy": "2022-04-04T23:27:43.102043Z",
     "iopub.status.idle": "2022-04-04T23:27:43.114648Z",
     "shell.execute_reply": "2022-04-04T23:27:43.115182Z",
     "shell.execute_reply.started": "2022-04-04T22:46:15.756366Z"
    },
    "papermill": {
     "duration": 0.034577,
     "end_time": "2022-04-04T23:27:43.115371",
     "exception": false,
     "start_time": "2022-04-04T23:27:43.080794",
     "status": "completed"
    },
    "tags": []
   },
   "outputs": [],
   "source": [
    "df_size = pd.read_csv('/kaggle/input/palmer-archipelago-antarctica-penguin-data/penguins_size.csv')"
   ]
  },
  {
   "cell_type": "markdown",
   "id": "7129784d",
   "metadata": {
    "papermill": {
     "duration": 0.015679,
     "end_time": "2022-04-04T23:27:43.147118",
     "exception": false,
     "start_time": "2022-04-04T23:27:43.131439",
     "status": "completed"
    },
    "tags": []
   },
   "source": [
    "# First glances on the dataset\n",
    "\n",
    "Let's have an overview of the dataset."
   ]
  },
  {
   "cell_type": "code",
   "execution_count": 3,
   "id": "00cc19da",
   "metadata": {
    "execution": {
     "iopub.execute_input": "2022-04-04T23:27:43.181863Z",
     "iopub.status.busy": "2022-04-04T23:27:43.181192Z",
     "iopub.status.idle": "2022-04-04T23:27:43.201509Z",
     "shell.execute_reply": "2022-04-04T23:27:43.202020Z",
     "shell.execute_reply.started": "2022-04-04T22:46:15.778487Z"
    },
    "papermill": {
     "duration": 0.039262,
     "end_time": "2022-04-04T23:27:43.202203",
     "exception": false,
     "start_time": "2022-04-04T23:27:43.162941",
     "status": "completed"
    },
    "tags": []
   },
   "outputs": [
    {
     "data": {
      "text/html": [
       "<div>\n",
       "<style scoped>\n",
       "    .dataframe tbody tr th:only-of-type {\n",
       "        vertical-align: middle;\n",
       "    }\n",
       "\n",
       "    .dataframe tbody tr th {\n",
       "        vertical-align: top;\n",
       "    }\n",
       "\n",
       "    .dataframe thead th {\n",
       "        text-align: right;\n",
       "    }\n",
       "</style>\n",
       "<table border=\"1\" class=\"dataframe\">\n",
       "  <thead>\n",
       "    <tr style=\"text-align: right;\">\n",
       "      <th></th>\n",
       "      <th>species</th>\n",
       "      <th>island</th>\n",
       "      <th>culmen_length_mm</th>\n",
       "      <th>culmen_depth_mm</th>\n",
       "      <th>flipper_length_mm</th>\n",
       "      <th>body_mass_g</th>\n",
       "      <th>sex</th>\n",
       "    </tr>\n",
       "  </thead>\n",
       "  <tbody>\n",
       "    <tr>\n",
       "      <th>0</th>\n",
       "      <td>Adelie</td>\n",
       "      <td>Torgersen</td>\n",
       "      <td>39.10</td>\n",
       "      <td>18.70</td>\n",
       "      <td>181.00</td>\n",
       "      <td>3750.00</td>\n",
       "      <td>MALE</td>\n",
       "    </tr>\n",
       "    <tr>\n",
       "      <th>1</th>\n",
       "      <td>Adelie</td>\n",
       "      <td>Torgersen</td>\n",
       "      <td>39.50</td>\n",
       "      <td>17.40</td>\n",
       "      <td>186.00</td>\n",
       "      <td>3800.00</td>\n",
       "      <td>FEMALE</td>\n",
       "    </tr>\n",
       "    <tr>\n",
       "      <th>2</th>\n",
       "      <td>Adelie</td>\n",
       "      <td>Torgersen</td>\n",
       "      <td>40.30</td>\n",
       "      <td>18.00</td>\n",
       "      <td>195.00</td>\n",
       "      <td>3250.00</td>\n",
       "      <td>FEMALE</td>\n",
       "    </tr>\n",
       "    <tr>\n",
       "      <th>3</th>\n",
       "      <td>Adelie</td>\n",
       "      <td>Torgersen</td>\n",
       "      <td>NaN</td>\n",
       "      <td>NaN</td>\n",
       "      <td>NaN</td>\n",
       "      <td>NaN</td>\n",
       "      <td>NaN</td>\n",
       "    </tr>\n",
       "    <tr>\n",
       "      <th>4</th>\n",
       "      <td>Adelie</td>\n",
       "      <td>Torgersen</td>\n",
       "      <td>36.70</td>\n",
       "      <td>19.30</td>\n",
       "      <td>193.00</td>\n",
       "      <td>3450.00</td>\n",
       "      <td>FEMALE</td>\n",
       "    </tr>\n",
       "  </tbody>\n",
       "</table>\n",
       "</div>"
      ],
      "text/plain": [
       "  species     island  culmen_length_mm  culmen_depth_mm  flipper_length_mm  \\\n",
       "0  Adelie  Torgersen             39.10            18.70             181.00   \n",
       "1  Adelie  Torgersen             39.50            17.40             186.00   \n",
       "2  Adelie  Torgersen             40.30            18.00             195.00   \n",
       "3  Adelie  Torgersen               NaN              NaN                NaN   \n",
       "4  Adelie  Torgersen             36.70            19.30             193.00   \n",
       "\n",
       "   body_mass_g     sex  \n",
       "0      3750.00    MALE  \n",
       "1      3800.00  FEMALE  \n",
       "2      3250.00  FEMALE  \n",
       "3          NaN     NaN  \n",
       "4      3450.00  FEMALE  "
      ]
     },
     "execution_count": 3,
     "metadata": {},
     "output_type": "execute_result"
    }
   ],
   "source": [
    "df_size.head()"
   ]
  },
  {
   "cell_type": "markdown",
   "id": "83892a7d",
   "metadata": {
    "papermill": {
     "duration": 0.016294,
     "end_time": "2022-04-04T23:27:43.235090",
     "exception": false,
     "start_time": "2022-04-04T23:27:43.218796",
     "status": "completed"
    },
    "tags": []
   },
   "source": [
    "One can notice that we have mainly information about penguins' culmen and flipper. It's also noticeable that we have a few NaN values, now we are going to have a deeper dive on the dataset."
   ]
  },
  {
   "cell_type": "markdown",
   "id": "0f9ee27b",
   "metadata": {
    "papermill": {
     "duration": 0.01607,
     "end_time": "2022-04-04T23:27:43.267459",
     "exception": false,
     "start_time": "2022-04-04T23:27:43.251389",
     "status": "completed"
    },
    "tags": []
   },
   "source": [
    "# Which columns does have NaN values?"
   ]
  },
  {
   "cell_type": "code",
   "execution_count": 4,
   "id": "0dafd743",
   "metadata": {
    "execution": {
     "iopub.execute_input": "2022-04-04T23:27:43.303613Z",
     "iopub.status.busy": "2022-04-04T23:27:43.302962Z",
     "iopub.status.idle": "2022-04-04T23:27:43.310420Z",
     "shell.execute_reply": "2022-04-04T23:27:43.311014Z",
     "shell.execute_reply.started": "2022-04-04T22:46:15.801423Z"
    },
    "papermill": {
     "duration": 0.027299,
     "end_time": "2022-04-04T23:27:43.311182",
     "exception": false,
     "start_time": "2022-04-04T23:27:43.283883",
     "status": "completed"
    },
    "tags": []
   },
   "outputs": [
    {
     "data": {
      "text/plain": [
       "species               0\n",
       "island                0\n",
       "culmen_length_mm      2\n",
       "culmen_depth_mm       2\n",
       "flipper_length_mm     2\n",
       "body_mass_g           2\n",
       "sex                  10\n",
       "dtype: int64"
      ]
     },
     "execution_count": 4,
     "metadata": {},
     "output_type": "execute_result"
    }
   ],
   "source": [
    "df_size.isnull().sum()"
   ]
  },
  {
   "cell_type": "code",
   "execution_count": 5,
   "id": "9318bf93",
   "metadata": {
    "execution": {
     "iopub.execute_input": "2022-04-04T23:27:43.355768Z",
     "iopub.status.busy": "2022-04-04T23:27:43.355085Z",
     "iopub.status.idle": "2022-04-04T23:27:43.378425Z",
     "shell.execute_reply": "2022-04-04T23:27:43.379076Z",
     "shell.execute_reply.started": "2022-04-04T22:46:15.817548Z"
    },
    "papermill": {
     "duration": 0.051145,
     "end_time": "2022-04-04T23:27:43.379254",
     "exception": false,
     "start_time": "2022-04-04T23:27:43.328109",
     "status": "completed"
    },
    "tags": []
   },
   "outputs": [
    {
     "data": {
      "text/html": [
       "<div>\n",
       "<style scoped>\n",
       "    .dataframe tbody tr th:only-of-type {\n",
       "        vertical-align: middle;\n",
       "    }\n",
       "\n",
       "    .dataframe tbody tr th {\n",
       "        vertical-align: top;\n",
       "    }\n",
       "\n",
       "    .dataframe thead th {\n",
       "        text-align: right;\n",
       "    }\n",
       "</style>\n",
       "<table border=\"1\" class=\"dataframe\">\n",
       "  <thead>\n",
       "    <tr style=\"text-align: right;\">\n",
       "      <th></th>\n",
       "      <th>culmen_length_mm</th>\n",
       "      <th>culmen_depth_mm</th>\n",
       "      <th>flipper_length_mm</th>\n",
       "      <th>body_mass_g</th>\n",
       "    </tr>\n",
       "  </thead>\n",
       "  <tbody>\n",
       "    <tr>\n",
       "      <th>count</th>\n",
       "      <td>342.00</td>\n",
       "      <td>342.00</td>\n",
       "      <td>342.00</td>\n",
       "      <td>342.00</td>\n",
       "    </tr>\n",
       "    <tr>\n",
       "      <th>mean</th>\n",
       "      <td>43.92</td>\n",
       "      <td>17.15</td>\n",
       "      <td>200.92</td>\n",
       "      <td>4201.75</td>\n",
       "    </tr>\n",
       "    <tr>\n",
       "      <th>std</th>\n",
       "      <td>5.46</td>\n",
       "      <td>1.97</td>\n",
       "      <td>14.06</td>\n",
       "      <td>801.95</td>\n",
       "    </tr>\n",
       "    <tr>\n",
       "      <th>min</th>\n",
       "      <td>32.10</td>\n",
       "      <td>13.10</td>\n",
       "      <td>172.00</td>\n",
       "      <td>2700.00</td>\n",
       "    </tr>\n",
       "    <tr>\n",
       "      <th>25%</th>\n",
       "      <td>39.23</td>\n",
       "      <td>15.60</td>\n",
       "      <td>190.00</td>\n",
       "      <td>3550.00</td>\n",
       "    </tr>\n",
       "    <tr>\n",
       "      <th>50%</th>\n",
       "      <td>44.45</td>\n",
       "      <td>17.30</td>\n",
       "      <td>197.00</td>\n",
       "      <td>4050.00</td>\n",
       "    </tr>\n",
       "    <tr>\n",
       "      <th>75%</th>\n",
       "      <td>48.50</td>\n",
       "      <td>18.70</td>\n",
       "      <td>213.00</td>\n",
       "      <td>4750.00</td>\n",
       "    </tr>\n",
       "    <tr>\n",
       "      <th>max</th>\n",
       "      <td>59.60</td>\n",
       "      <td>21.50</td>\n",
       "      <td>231.00</td>\n",
       "      <td>6300.00</td>\n",
       "    </tr>\n",
       "  </tbody>\n",
       "</table>\n",
       "</div>"
      ],
      "text/plain": [
       "       culmen_length_mm  culmen_depth_mm  flipper_length_mm  body_mass_g\n",
       "count            342.00           342.00             342.00       342.00\n",
       "mean              43.92            17.15             200.92      4201.75\n",
       "std                5.46             1.97              14.06       801.95\n",
       "min               32.10            13.10             172.00      2700.00\n",
       "25%               39.23            15.60             190.00      3550.00\n",
       "50%               44.45            17.30             197.00      4050.00\n",
       "75%               48.50            18.70             213.00      4750.00\n",
       "max               59.60            21.50             231.00      6300.00"
      ]
     },
     "execution_count": 5,
     "metadata": {},
     "output_type": "execute_result"
    }
   ],
   "source": [
    "df_size.describe()"
   ]
  },
  {
   "cell_type": "markdown",
   "id": "27e7ae1e",
   "metadata": {
    "papermill": {
     "duration": 0.017103,
     "end_time": "2022-04-04T23:27:43.413968",
     "exception": false,
     "start_time": "2022-04-04T23:27:43.396865",
     "status": "completed"
    },
    "tags": []
   },
   "source": [
    "As we have only a few missing values we are going to drop those lines."
   ]
  },
  {
   "cell_type": "code",
   "execution_count": 6,
   "id": "5c544c18",
   "metadata": {
    "execution": {
     "iopub.execute_input": "2022-04-04T23:27:43.452420Z",
     "iopub.status.busy": "2022-04-04T23:27:43.451743Z",
     "iopub.status.idle": "2022-04-04T23:27:43.461770Z",
     "shell.execute_reply": "2022-04-04T23:27:43.462351Z",
     "shell.execute_reply.started": "2022-04-04T22:55:52.985359Z"
    },
    "papermill": {
     "duration": 0.031242,
     "end_time": "2022-04-04T23:27:43.462537",
     "exception": false,
     "start_time": "2022-04-04T23:27:43.431295",
     "status": "completed"
    },
    "tags": []
   },
   "outputs": [
    {
     "data": {
      "text/plain": [
       "species              0\n",
       "island               0\n",
       "culmen_length_mm     0\n",
       "culmen_depth_mm      0\n",
       "flipper_length_mm    0\n",
       "body_mass_g          0\n",
       "sex                  0\n",
       "dtype: int64"
      ]
     },
     "execution_count": 6,
     "metadata": {},
     "output_type": "execute_result"
    }
   ],
   "source": [
    "df_size.dropna(inplace=True)\n",
    "\n",
    "# Checking if we truly have no missing values anymore\n",
    "\n",
    "df_size.isnull().sum()"
   ]
  },
  {
   "cell_type": "markdown",
   "id": "891db4e5",
   "metadata": {
    "papermill": {
     "duration": 0.017326,
     "end_time": "2022-04-04T23:27:43.497753",
     "exception": false,
     "start_time": "2022-04-04T23:27:43.480427",
     "status": "completed"
    },
    "tags": []
   },
   "source": [
    "# How many different species does the dataset have?"
   ]
  },
  {
   "cell_type": "code",
   "execution_count": 7,
   "id": "8db667de",
   "metadata": {
    "execution": {
     "iopub.execute_input": "2022-04-04T23:27:43.536760Z",
     "iopub.status.busy": "2022-04-04T23:27:43.536094Z",
     "iopub.status.idle": "2022-04-04T23:27:43.543899Z",
     "shell.execute_reply": "2022-04-04T23:27:43.544928Z",
     "shell.execute_reply.started": "2022-04-04T22:57:55.593973Z"
    },
    "papermill": {
     "duration": 0.029796,
     "end_time": "2022-04-04T23:27:43.545227",
     "exception": false,
     "start_time": "2022-04-04T23:27:43.515431",
     "status": "completed"
    },
    "tags": []
   },
   "outputs": [
    {
     "data": {
      "text/plain": [
       "Adelie       146\n",
       "Gentoo       120\n",
       "Chinstrap     68\n",
       "Name: species, dtype: int64"
      ]
     },
     "execution_count": 7,
     "metadata": {},
     "output_type": "execute_result"
    }
   ],
   "source": [
    "df_size['species'].value_counts()"
   ]
  },
  {
   "cell_type": "code",
   "execution_count": 8,
   "id": "c4b2335e",
   "metadata": {
    "execution": {
     "iopub.execute_input": "2022-04-04T23:27:43.586664Z",
     "iopub.status.busy": "2022-04-04T23:27:43.586021Z",
     "iopub.status.idle": "2022-04-04T23:27:43.593091Z",
     "shell.execute_reply": "2022-04-04T23:27:43.593684Z",
     "shell.execute_reply.started": "2022-04-04T23:07:18.679005Z"
    },
    "papermill": {
     "duration": 0.029056,
     "end_time": "2022-04-04T23:27:43.593880",
     "exception": false,
     "start_time": "2022-04-04T23:27:43.564824",
     "status": "completed"
    },
    "tags": []
   },
   "outputs": [
    {
     "data": {
      "text/plain": [
       "Adelie      0.44\n",
       "Gentoo      0.36\n",
       "Chinstrap   0.20\n",
       "Name: species, dtype: float64"
      ]
     },
     "execution_count": 8,
     "metadata": {},
     "output_type": "execute_result"
    }
   ],
   "source": [
    "df_size['species'].value_counts(normalize=True)"
   ]
  },
  {
   "cell_type": "markdown",
   "id": "503e68c2",
   "metadata": {
    "papermill": {
     "duration": 0.018713,
     "end_time": "2022-04-04T23:27:43.631872",
     "exception": false,
     "start_time": "2022-04-04T23:27:43.613159",
     "status": "completed"
    },
    "tags": []
   },
   "source": [
    "There are 3 different species on the dataset, which almost half is from the Adelie specie."
   ]
  },
  {
   "cell_type": "markdown",
   "id": "86bf8a39",
   "metadata": {
    "papermill": {
     "duration": 0.018186,
     "end_time": "2022-04-04T23:27:43.668559",
     "exception": false,
     "start_time": "2022-04-04T23:27:43.650373",
     "status": "completed"
    },
    "tags": []
   },
   "source": [
    "# Does the culmen length grows according to the body mass?"
   ]
  },
  {
   "cell_type": "code",
   "execution_count": 9,
   "id": "edd94973",
   "metadata": {
    "execution": {
     "iopub.execute_input": "2022-04-04T23:27:43.709372Z",
     "iopub.status.busy": "2022-04-04T23:27:43.708702Z",
     "iopub.status.idle": "2022-04-04T23:27:46.126438Z",
     "shell.execute_reply": "2022-04-04T23:27:46.125772Z",
     "shell.execute_reply.started": "2022-04-04T23:25:55.996322Z"
    },
    "papermill": {
     "duration": 2.43925,
     "end_time": "2022-04-04T23:27:46.126586",
     "exception": false,
     "start_time": "2022-04-04T23:27:43.687336",
     "status": "completed"
    },
    "tags": []
   },
   "outputs": [
    {
     "data": {
      "text/plain": [
       "<AxesSubplot:xlabel='body_mass_g', ylabel='culmen_length_mm'>"
      ]
     },
     "execution_count": 9,
     "metadata": {},
     "output_type": "execute_result"
    },
    {
     "data": {
      "image/png": "[encoded data removed]",
      "text/plain": [
       "<Figure size 432x288 with 1 Axes>"
      ]
     },
     "metadata": {},
     "output_type": "display_data"
    }
   ],
   "source": [
    "sns.set_theme(style=\"whitegrid\")\n",
    "\n",
    "\n",
    "\n",
    "sns.lineplot(x=df_size['body_mass_g'],y=df_size['culmen_length_mm'], \\\n",
    "             palette=\"tab10\", linewidth=2.5)"
   ]
  },
  {
   "cell_type": "markdown",
   "id": "5ce6543a",
   "metadata": {
    "papermill": {
     "duration": 0.020159,
     "end_time": "2022-04-04T23:27:46.167517",
     "exception": false,
     "start_time": "2022-04-04T23:27:46.147358",
     "status": "completed"
    },
    "tags": []
   },
   "source": [
    "We can see a slight relation between these two variables, but it's not linear."
   ]
  }
 ],
 "metadata": {
  "kernelspec": {
   "display_name": "Python 3",
   "language": "python",
   "name": "python3"
  },
  "language_info": {
   "codemirror_mode": {
    "name": "ipython",
    "version": 3
   },
   "file_extension": ".py",
   "mimetype": "text/x-python",
   "name": "python",
   "nbconvert_exporter": "python",
   "pygments_lexer": "ipython3",
   "version": "3.7.12"
  },
  "papermill": {
   "default_parameters": {},
   "duration": 16.057767,
   "end_time": "2022-04-04T23:27:46.899226",
   "environment_variables": {},
   "exception": null,
   "input_path": "__notebook__.ipynb",
   "output_path": "__notebook__.ipynb",
   "parameters": {},
   "start_time": "2022-04-04T23:27:30.841459",
   "version": "2.3.3"
  }
 },
 "nbformat": 4,
 "nbformat_minor": 5
}
