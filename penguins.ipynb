{
 "cells": [
  {
   "cell_type": "code",
   "execution_count": 1,
   "id": "7bdfba27",
   "metadata": {
    "_cell_guid": "b1076dfc-b9ad-4769-8c92-a6c4dae69d19",
    "_uuid": "8f2839f25d086af736a60e9eeb907d3b93b6e0e5",
    "execution": {
     "iopub.execute_input": "2022-04-07T23:21:16.272877Z",
     "iopub.status.busy": "2022-04-07T23:21:16.271630Z",
     "iopub.status.idle": "2022-04-07T23:21:17.509903Z",
     "shell.execute_reply": "2022-04-07T23:21:17.509104Z",
     "shell.execute_reply.started": "2022-04-07T23:17:20.027127Z"
    },
    "papermill": {
     "duration": 1.274787,
     "end_time": "2022-04-07T23:21:17.510072",
     "exception": false,
     "start_time": "2022-04-07T23:21:16.235285",
     "status": "completed"
    },
    "tags": []
   },
   "outputs": [
    {
     "name": "stdout",
     "output_type": "stream",
     "text": [
      "/kaggle/input/palmer-archipelago-antarctica-penguin-data/penguins_size.csv\n",
      "/kaggle/input/palmer-archipelago-antarctica-penguin-data/penguins_lter.csv\n"
     ]
    }
   ],
   "source": [
    "# This Python 3 environment comes with many helpful analytics libraries installed\n",
    "# It is defined by the kaggle/python Docker image: https://github.com/kaggle/docker-python\n",
    "# For example, here's several helpful packages to load\n",
    "\n",
    "import numpy as np # linear algebra\n",
    "import pandas as pd # data processing, CSV file I/O (e.g. pd.read_csv)\n",
    "%matplotlib inline\n",
    "import seaborn as sns\n",
    "\n",
    "# Setting the float precision to 2 decimal places.\n",
    "\n",
    "pd.set_option(\"precision\", 2)\n",
    "pd.options.display.float_format = '{:.2f}'.format\n",
    "\n",
    "# Input data files are available in the read-only \"../input/\" directory\n",
    "# For example, running this (by clicking run or pressing Shift+Enter) will list all files under the input directory\n",
    "\n",
    "import os\n",
    "for dirname, _, filenames in os.walk('/kaggle/input'):\n",
    "    for filename in filenames:\n",
    "        print(os.path.join(dirname, filename))\n",
    "\n",
    "# You can write up to 20GB to the current directory (/kaggle/working/) that gets preserved as output when you create a version using \"Save & Run All\" \n",
    "# You can also write temporary files to /kaggle/temp/, but they won't be saved outside of the current session"
   ]
  },
  {
   "cell_type": "markdown",
   "id": "431aa5fe",
   "metadata": {
    "papermill": {
     "duration": 0.032047,
     "end_time": "2022-04-07T23:21:17.575198",
     "exception": false,
     "start_time": "2022-04-07T23:21:17.543151",
     "status": "completed"
    },
    "tags": []
   },
   "source": [
    "# Inputting the data \n",
    "\n",
    "We are going to use the penguins_size.csv because it is a simplified dataset, as written in the description on Kaggle."
   ]
  },
  {
   "cell_type": "code",
   "execution_count": 2,
   "id": "309678dd",
   "metadata": {
    "execution": {
     "iopub.execute_input": "2022-04-07T23:21:17.644240Z",
     "iopub.status.busy": "2022-04-07T23:21:17.643594Z",
     "iopub.status.idle": "2022-04-07T23:21:17.658544Z",
     "shell.execute_reply": "2022-04-07T23:21:17.657813Z",
     "shell.execute_reply.started": "2022-04-07T23:17:20.047297Z"
    },
    "papermill": {
     "duration": 0.051229,
     "end_time": "2022-04-07T23:21:17.658692",
     "exception": false,
     "start_time": "2022-04-07T23:21:17.607463",
     "status": "completed"
    },
    "tags": []
   },
   "outputs": [],
   "source": [
    "df_size = pd.read_csv('/kaggle/input/palmer-archipelago-antarctica-penguin-data/penguins_size.csv')"
   ]
  },
  {
   "cell_type": "markdown",
   "id": "32e085c3",
   "metadata": {
    "papermill": {
     "duration": 0.031239,
     "end_time": "2022-04-07T23:21:17.722214",
     "exception": false,
     "start_time": "2022-04-07T23:21:17.690975",
     "status": "completed"
    },
    "tags": []
   },
   "source": [
    "# First glances on the dataset\n",
    "\n",
    "Let's have an overview of the dataset."
   ]
  },
  {
   "cell_type": "code",
   "execution_count": 3,
   "id": "c9dfa26e",
   "metadata": {
    "execution": {
     "iopub.execute_input": "2022-04-07T23:21:17.796151Z",
     "iopub.status.busy": "2022-04-07T23:21:17.793682Z",
     "iopub.status.idle": "2022-04-07T23:21:17.811458Z",
     "shell.execute_reply": "2022-04-07T23:21:17.810915Z",
     "shell.execute_reply.started": "2022-04-07T23:17:20.061640Z"
    },
    "papermill": {
     "duration": 0.05813,
     "end_time": "2022-04-07T23:21:17.811596",
     "exception": false,
     "start_time": "2022-04-07T23:21:17.753466",
     "status": "completed"
    },
    "tags": []
   },
   "outputs": [
    {
     "data": {
      "text/html": [
       "<div>\n",
       "<style scoped>\n",
       "    .dataframe tbody tr th:only-of-type {\n",
       "        vertical-align: middle;\n",
       "    }\n",
       "\n",
       "    .dataframe tbody tr th {\n",
       "        vertical-align: top;\n",
       "    }\n",
       "\n",
       "    .dataframe thead th {\n",
       "        text-align: right;\n",
       "    }\n",
       "</style>\n",
       "<table border=\"1\" class=\"dataframe\">\n",
       "  <thead>\n",
       "    <tr style=\"text-align: right;\">\n",
       "      <th></th>\n",
       "      <th>species</th>\n",
       "      <th>island</th>\n",
       "      <th>culmen_length_mm</th>\n",
       "      <th>culmen_depth_mm</th>\n",
       "      <th>flipper_length_mm</th>\n",
       "      <th>body_mass_g</th>\n",
       "      <th>sex</th>\n",
       "    </tr>\n",
       "  </thead>\n",
       "  <tbody>\n",
       "    <tr>\n",
       "      <th>0</th>\n",
       "      <td>Adelie</td>\n",
       "      <td>Torgersen</td>\n",
       "      <td>39.10</td>\n",
       "      <td>18.70</td>\n",
       "      <td>181.00</td>\n",
       "      <td>3750.00</td>\n",
       "      <td>MALE</td>\n",
       "    </tr>\n",
       "    <tr>\n",
       "      <th>1</th>\n",
       "      <td>Adelie</td>\n",
       "      <td>Torgersen</td>\n",
       "      <td>39.50</td>\n",
       "      <td>17.40</td>\n",
       "      <td>186.00</td>\n",
       "      <td>3800.00</td>\n",
       "      <td>FEMALE</td>\n",
       "    </tr>\n",
       "    <tr>\n",
       "      <th>2</th>\n",
       "      <td>Adelie</td>\n",
       "      <td>Torgersen</td>\n",
       "      <td>40.30</td>\n",
       "      <td>18.00</td>\n",
       "      <td>195.00</td>\n",
       "      <td>3250.00</td>\n",
       "      <td>FEMALE</td>\n",
       "    </tr>\n",
       "    <tr>\n",
       "      <th>3</th>\n",
       "      <td>Adelie</td>\n",
       "      <td>Torgersen</td>\n",
       "      <td>NaN</td>\n",
       "      <td>NaN</td>\n",
       "      <td>NaN</td>\n",
       "      <td>NaN</td>\n",
       "      <td>NaN</td>\n",
       "    </tr>\n",
       "    <tr>\n",
       "      <th>4</th>\n",
       "      <td>Adelie</td>\n",
       "      <td>Torgersen</td>\n",
       "      <td>36.70</td>\n",
       "      <td>19.30</td>\n",
       "      <td>193.00</td>\n",
       "      <td>3450.00</td>\n",
       "      <td>FEMALE</td>\n",
       "    </tr>\n",
       "  </tbody>\n",
       "</table>\n",
       "</div>"
      ],
      "text/plain": [
       "  species     island  culmen_length_mm  culmen_depth_mm  flipper_length_mm  \\\n",
       "0  Adelie  Torgersen             39.10            18.70             181.00   \n",
       "1  Adelie  Torgersen             39.50            17.40             186.00   \n",
       "2  Adelie  Torgersen             40.30            18.00             195.00   \n",
       "3  Adelie  Torgersen               NaN              NaN                NaN   \n",
       "4  Adelie  Torgersen             36.70            19.30             193.00   \n",
       "\n",
       "   body_mass_g     sex  \n",
       "0      3750.00    MALE  \n",
       "1      3800.00  FEMALE  \n",
       "2      3250.00  FEMALE  \n",
       "3          NaN     NaN  \n",
       "4      3450.00  FEMALE  "
      ]
     },
     "execution_count": 3,
     "metadata": {},
     "output_type": "execute_result"
    }
   ],
   "source": [
    "df_size.head()"
   ]
  },
  {
   "cell_type": "markdown",
   "id": "65012b50",
   "metadata": {
    "papermill": {
     "duration": 0.031506,
     "end_time": "2022-04-07T23:21:17.875514",
     "exception": false,
     "start_time": "2022-04-07T23:21:17.844008",
     "status": "completed"
    },
    "tags": []
   },
   "source": [
    "One can notice that we have mainly information about penguins' culmen and flipper. It's also noticeable that we have a few NaN values, now we are going to have a deeper dive on the dataset."
   ]
  },
  {
   "cell_type": "markdown",
   "id": "914e2be9",
   "metadata": {
    "papermill": {
     "duration": 0.03209,
     "end_time": "2022-04-07T23:21:17.939782",
     "exception": false,
     "start_time": "2022-04-07T23:21:17.907692",
     "status": "completed"
    },
    "tags": []
   },
   "source": [
    "# Which columns does have NaN values?"
   ]
  },
  {
   "cell_type": "code",
   "execution_count": 4,
   "id": "79042953",
   "metadata": {
    "execution": {
     "iopub.execute_input": "2022-04-07T23:21:18.008076Z",
     "iopub.status.busy": "2022-04-07T23:21:18.007462Z",
     "iopub.status.idle": "2022-04-07T23:21:18.015730Z",
     "shell.execute_reply": "2022-04-07T23:21:18.016276Z",
     "shell.execute_reply.started": "2022-04-07T23:17:20.077470Z"
    },
    "papermill": {
     "duration": 0.044495,
     "end_time": "2022-04-07T23:21:18.016487",
     "exception": false,
     "start_time": "2022-04-07T23:21:17.971992",
     "status": "completed"
    },
    "tags": []
   },
   "outputs": [
    {
     "data": {
      "text/plain": [
       "species               0\n",
       "island                0\n",
       "culmen_length_mm      2\n",
       "culmen_depth_mm       2\n",
       "flipper_length_mm     2\n",
       "body_mass_g           2\n",
       "sex                  10\n",
       "dtype: int64"
      ]
     },
     "execution_count": 4,
     "metadata": {},
     "output_type": "execute_result"
    }
   ],
   "source": [
    "df_size.isnull().sum()"
   ]
  },
  {
   "cell_type": "code",
   "execution_count": 5,
   "id": "f021b501",
   "metadata": {
    "execution": {
     "iopub.execute_input": "2022-04-07T23:21:18.090447Z",
     "iopub.status.busy": "2022-04-07T23:21:18.089567Z",
     "iopub.status.idle": "2022-04-07T23:21:18.122290Z",
     "shell.execute_reply": "2022-04-07T23:21:18.122827Z",
     "shell.execute_reply.started": "2022-04-07T23:17:20.094292Z"
    },
    "papermill": {
     "duration": 0.071962,
     "end_time": "2022-04-07T23:21:18.122985",
     "exception": false,
     "start_time": "2022-04-07T23:21:18.051023",
     "status": "completed"
    },
    "tags": []
   },
   "outputs": [
    {
     "data": {
      "text/html": [
       "<div>\n",
       "<style scoped>\n",
       "    .dataframe tbody tr th:only-of-type {\n",
       "        vertical-align: middle;\n",
       "    }\n",
       "\n",
       "    .dataframe tbody tr th {\n",
       "        vertical-align: top;\n",
       "    }\n",
       "\n",
       "    .dataframe thead th {\n",
       "        text-align: right;\n",
       "    }\n",
       "</style>\n",
       "<table border=\"1\" class=\"dataframe\">\n",
       "  <thead>\n",
       "    <tr style=\"text-align: right;\">\n",
       "      <th></th>\n",
       "      <th>culmen_length_mm</th>\n",
       "      <th>culmen_depth_mm</th>\n",
       "      <th>flipper_length_mm</th>\n",
       "      <th>body_mass_g</th>\n",
       "    </tr>\n",
       "  </thead>\n",
       "  <tbody>\n",
       "    <tr>\n",
       "      <th>count</th>\n",
       "      <td>342.00</td>\n",
       "      <td>342.00</td>\n",
       "      <td>342.00</td>\n",
       "      <td>342.00</td>\n",
       "    </tr>\n",
       "    <tr>\n",
       "      <th>mean</th>\n",
       "      <td>43.92</td>\n",
       "      <td>17.15</td>\n",
       "      <td>200.92</td>\n",
       "      <td>4201.75</td>\n",
       "    </tr>\n",
       "    <tr>\n",
       "      <th>std</th>\n",
       "      <td>5.46</td>\n",
       "      <td>1.97</td>\n",
       "      <td>14.06</td>\n",
       "      <td>801.95</td>\n",
       "    </tr>\n",
       "    <tr>\n",
       "      <th>min</th>\n",
       "      <td>32.10</td>\n",
       "      <td>13.10</td>\n",
       "      <td>172.00</td>\n",
       "      <td>2700.00</td>\n",
       "    </tr>\n",
       "    <tr>\n",
       "      <th>25%</th>\n",
       "      <td>39.23</td>\n",
       "      <td>15.60</td>\n",
       "      <td>190.00</td>\n",
       "      <td>3550.00</td>\n",
       "    </tr>\n",
       "    <tr>\n",
       "      <th>50%</th>\n",
       "      <td>44.45</td>\n",
       "      <td>17.30</td>\n",
       "      <td>197.00</td>\n",
       "      <td>4050.00</td>\n",
       "    </tr>\n",
       "    <tr>\n",
       "      <th>75%</th>\n",
       "      <td>48.50</td>\n",
       "      <td>18.70</td>\n",
       "      <td>213.00</td>\n",
       "      <td>4750.00</td>\n",
       "    </tr>\n",
       "    <tr>\n",
       "      <th>max</th>\n",
       "      <td>59.60</td>\n",
       "      <td>21.50</td>\n",
       "      <td>231.00</td>\n",
       "      <td>6300.00</td>\n",
       "    </tr>\n",
       "  </tbody>\n",
       "</table>\n",
       "</div>"
      ],
      "text/plain": [
       "       culmen_length_mm  culmen_depth_mm  flipper_length_mm  body_mass_g\n",
       "count            342.00           342.00             342.00       342.00\n",
       "mean              43.92            17.15             200.92      4201.75\n",
       "std                5.46             1.97              14.06       801.95\n",
       "min               32.10            13.10             172.00      2700.00\n",
       "25%               39.23            15.60             190.00      3550.00\n",
       "50%               44.45            17.30             197.00      4050.00\n",
       "75%               48.50            18.70             213.00      4750.00\n",
       "max               59.60            21.50             231.00      6300.00"
      ]
     },
     "execution_count": 5,
     "metadata": {},
     "output_type": "execute_result"
    }
   ],
   "source": [
    "df_size.describe()"
   ]
  },
  {
   "cell_type": "markdown",
   "id": "c6e63bf7",
   "metadata": {
    "papermill": {
     "duration": 0.033122,
     "end_time": "2022-04-07T23:21:18.189114",
     "exception": false,
     "start_time": "2022-04-07T23:21:18.155992",
     "status": "completed"
    },
    "tags": []
   },
   "source": [
    "As we have only a few missing values we are going to drop those lines."
   ]
  },
  {
   "cell_type": "code",
   "execution_count": 6,
   "id": "338c0e1b",
   "metadata": {
    "execution": {
     "iopub.execute_input": "2022-04-07T23:21:18.260951Z",
     "iopub.status.busy": "2022-04-07T23:21:18.260085Z",
     "iopub.status.idle": "2022-04-07T23:21:18.272495Z",
     "shell.execute_reply": "2022-04-07T23:21:18.271803Z",
     "shell.execute_reply.started": "2022-04-07T23:17:20.122749Z"
    },
    "papermill": {
     "duration": 0.048873,
     "end_time": "2022-04-07T23:21:18.272639",
     "exception": false,
     "start_time": "2022-04-07T23:21:18.223766",
     "status": "completed"
    },
    "tags": []
   },
   "outputs": [
    {
     "data": {
      "text/plain": [
       "species              0\n",
       "island               0\n",
       "culmen_length_mm     0\n",
       "culmen_depth_mm      0\n",
       "flipper_length_mm    0\n",
       "body_mass_g          0\n",
       "sex                  0\n",
       "dtype: int64"
      ]
     },
     "execution_count": 6,
     "metadata": {},
     "output_type": "execute_result"
    }
   ],
   "source": [
    "df_size.dropna(inplace=True)\n",
    "\n",
    "# Checking if we truly have no missing values anymore\n",
    "\n",
    "df_size.isnull().sum()"
   ]
  },
  {
   "cell_type": "markdown",
   "id": "2b5bda95",
   "metadata": {
    "papermill": {
     "duration": 0.033025,
     "end_time": "2022-04-07T23:21:18.339265",
     "exception": false,
     "start_time": "2022-04-07T23:21:18.306240",
     "status": "completed"
    },
    "tags": []
   },
   "source": [
    "# How many different species does the dataset have?"
   ]
  },
  {
   "cell_type": "code",
   "execution_count": 7,
   "id": "52b6417c",
   "metadata": {
    "execution": {
     "iopub.execute_input": "2022-04-07T23:21:18.410450Z",
     "iopub.status.busy": "2022-04-07T23:21:18.409764Z",
     "iopub.status.idle": "2022-04-07T23:21:18.414434Z",
     "shell.execute_reply": "2022-04-07T23:21:18.414934Z",
     "shell.execute_reply.started": "2022-04-07T23:17:20.136363Z"
    },
    "papermill": {
     "duration": 0.04233,
     "end_time": "2022-04-07T23:21:18.415098",
     "exception": false,
     "start_time": "2022-04-07T23:21:18.372768",
     "status": "completed"
    },
    "tags": []
   },
   "outputs": [
    {
     "data": {
      "text/plain": [
       "Adelie       146\n",
       "Gentoo       120\n",
       "Chinstrap     68\n",
       "Name: species, dtype: int64"
      ]
     },
     "execution_count": 7,
     "metadata": {},
     "output_type": "execute_result"
    }
   ],
   "source": [
    "df_size['species'].value_counts()"
   ]
  },
  {
   "cell_type": "code",
   "execution_count": 8,
   "id": "ca250609",
   "metadata": {
    "execution": {
     "iopub.execute_input": "2022-04-07T23:21:18.485696Z",
     "iopub.status.busy": "2022-04-07T23:21:18.485038Z",
     "iopub.status.idle": "2022-04-07T23:21:18.489974Z",
     "shell.execute_reply": "2022-04-07T23:21:18.490470Z",
     "shell.execute_reply.started": "2022-04-07T23:17:20.145521Z"
    },
    "papermill": {
     "duration": 0.042335,
     "end_time": "2022-04-07T23:21:18.490638",
     "exception": false,
     "start_time": "2022-04-07T23:21:18.448303",
     "status": "completed"
    },
    "tags": []
   },
   "outputs": [
    {
     "data": {
      "text/plain": [
       "Adelie      0.44\n",
       "Gentoo      0.36\n",
       "Chinstrap   0.20\n",
       "Name: species, dtype: float64"
      ]
     },
     "execution_count": 8,
     "metadata": {},
     "output_type": "execute_result"
    }
   ],
   "source": [
    "df_size['species'].value_counts(normalize=True)"
   ]
  },
  {
   "cell_type": "markdown",
   "id": "3653ce4a",
   "metadata": {
    "papermill": {
     "duration": 0.03361,
     "end_time": "2022-04-07T23:21:18.558229",
     "exception": false,
     "start_time": "2022-04-07T23:21:18.524619",
     "status": "completed"
    },
    "tags": []
   },
   "source": [
    "There are 3 different species on the dataset, which almost half is from the Adelie specie."
   ]
  },
  {
   "cell_type": "markdown",
   "id": "b5fa4b4d",
   "metadata": {
    "papermill": {
     "duration": 0.03314,
     "end_time": "2022-04-07T23:21:18.624863",
     "exception": false,
     "start_time": "2022-04-07T23:21:18.591723",
     "status": "completed"
    },
    "tags": []
   },
   "source": [
    "# Does the culmen length grows according to the body mass?"
   ]
  },
  {
   "cell_type": "code",
   "execution_count": 9,
   "id": "5fbb78aa",
   "metadata": {
    "execution": {
     "iopub.execute_input": "2022-04-07T23:21:18.695305Z",
     "iopub.status.busy": "2022-04-07T23:21:18.694638Z",
     "iopub.status.idle": "2022-04-07T23:21:20.946621Z",
     "shell.execute_reply": "2022-04-07T23:21:20.945730Z",
     "shell.execute_reply.started": "2022-04-07T23:17:20.158579Z"
    },
    "papermill": {
     "duration": 2.288693,
     "end_time": "2022-04-07T23:21:20.946845",
     "exception": false,
     "start_time": "2022-04-07T23:21:18.658152",
     "status": "completed"
    },
    "tags": []
   },
   "outputs": [
    {
     "data": {
      "text/plain": [
       "<AxesSubplot:xlabel='body_mass_g', ylabel='culmen_length_mm'>"
      ]
     },
     "execution_count": 9,
     "metadata": {},
     "output_type": "execute_result"
    },
    {
     "data": {
      "image/png": "[encoded data removed]",
      "text/plain": [
       "<Figure size 432x288 with 1 Axes>"
      ]
     },
     "metadata": {},
     "output_type": "display_data"
    }
   ],
   "source": [
    "sns.set_theme(style=\"whitegrid\")\n",
    "\n",
    "\n",
    "\n",
    "sns.lineplot(x=df_size['body_mass_g'],y=df_size['culmen_length_mm'], \\\n",
    "             palette=\"tab10\", linewidth=2.5)"
   ]
  },
  {
   "cell_type": "markdown",
   "id": "f770ec32",
   "metadata": {
    "papermill": {
     "duration": 0.036426,
     "end_time": "2022-04-07T23:21:21.019519",
     "exception": false,
     "start_time": "2022-04-07T23:21:20.983093",
     "status": "completed"
    },
    "tags": []
   },
   "source": [
    "We can see a slight relation between these two variables, but it's not linear."
   ]
  },
  {
   "cell_type": "markdown",
   "id": "baa3b9b1",
   "metadata": {
    "papermill": {
     "duration": 0.036092,
     "end_time": "2022-04-07T23:21:21.091847",
     "exception": false,
     "start_time": "2022-04-07T23:21:21.055755",
     "status": "completed"
    },
    "tags": []
   },
   "source": [
    "# How's the body mass according to sex?"
   ]
  },
  {
   "cell_type": "code",
   "execution_count": 10,
   "id": "2f043d02",
   "metadata": {
    "execution": {
     "iopub.execute_input": "2022-04-07T23:21:21.175076Z",
     "iopub.status.busy": "2022-04-07T23:21:21.174417Z",
     "iopub.status.idle": "2022-04-07T23:21:21.350267Z",
     "shell.execute_reply": "2022-04-07T23:21:21.350667Z",
     "shell.execute_reply.started": "2022-04-07T23:17:21.907988Z"
    },
    "papermill": {
     "duration": 0.222659,
     "end_time": "2022-04-07T23:21:21.350831",
     "exception": false,
     "start_time": "2022-04-07T23:21:21.128172",
     "status": "completed"
    },
    "tags": []
   },
   "outputs": [
    {
     "data": {
      "text/plain": [
       "<AxesSubplot:xlabel='sex', ylabel='body_mass_g'>"
      ]
     },
     "execution_count": 10,
     "metadata": {},
     "output_type": "execute_result"
    },
    {
     "data": {
      "image/png": "[encoded data removed]",
      "text/plain": [
       "<Figure size 432x288 with 1 Axes>"
      ]
     },
     "metadata": {},
     "output_type": "display_data"
    }
   ],
   "source": [
    "\n",
    "sex = ['MALE', 'FEMALE'] \n",
    "    \n",
    "# selecting rows based on condition \n",
    "df_sex = df_size.loc[df_size['sex'].isin(sex)] \n",
    "    \n",
    "sns.boxplot(x=df_sex[\"sex\"], y=df_sex[\"body_mass_g\"],\n",
    "             palette=[\"m\", \"g\"])"
   ]
  },
  {
   "cell_type": "code",
   "execution_count": 11,
   "id": "90b970e6",
   "metadata": {
    "execution": {
     "iopub.execute_input": "2022-04-07T23:21:21.404968Z",
     "iopub.status.busy": "2022-04-07T23:21:21.404437Z",
     "iopub.status.idle": "2022-04-07T23:21:21.412771Z",
     "shell.execute_reply": "2022-04-07T23:21:21.413224Z",
     "shell.execute_reply.started": "2022-04-07T23:17:22.065954Z"
    },
    "papermill": {
     "duration": 0.036932,
     "end_time": "2022-04-07T23:21:21.413365",
     "exception": false,
     "start_time": "2022-04-07T23:21:21.376433",
     "status": "completed"
    },
    "tags": []
   },
   "outputs": [
    {
     "data": {
      "text/plain": [
       "count    168.00\n",
       "mean    4545.68\n",
       "std      787.63\n",
       "min     3250.00\n",
       "25%     3900.00\n",
       "50%     4300.00\n",
       "75%     5312.50\n",
       "max     6300.00\n",
       "Name: body_mass_g, dtype: float64"
      ]
     },
     "execution_count": 11,
     "metadata": {},
     "output_type": "execute_result"
    }
   ],
   "source": [
    "df_male = df_sex.loc[df_size['sex']=='MALE']\n",
    "\n",
    "df_male['body_mass_g'].describe()"
   ]
  },
  {
   "cell_type": "code",
   "execution_count": 12,
   "id": "2803d88d",
   "metadata": {
    "execution": {
     "iopub.execute_input": "2022-04-07T23:21:21.474917Z",
     "iopub.status.busy": "2022-04-07T23:21:21.474151Z",
     "iopub.status.idle": "2022-04-07T23:21:21.480173Z",
     "shell.execute_reply": "2022-04-07T23:21:21.480559Z",
     "shell.execute_reply.started": "2022-04-07T23:17:22.080288Z"
    },
    "papermill": {
     "duration": 0.039546,
     "end_time": "2022-04-07T23:21:21.480692",
     "exception": false,
     "start_time": "2022-04-07T23:21:21.441146",
     "status": "completed"
    },
    "tags": []
   },
   "outputs": [
    {
     "data": {
      "text/plain": [
       "count    165.00\n",
       "mean    3862.27\n",
       "std      666.17\n",
       "min     2700.00\n",
       "25%     3350.00\n",
       "50%     3650.00\n",
       "75%     4550.00\n",
       "max     5200.00\n",
       "Name: body_mass_g, dtype: float64"
      ]
     },
     "execution_count": 12,
     "metadata": {},
     "output_type": "execute_result"
    }
   ],
   "source": [
    "df_female = df_sex.loc[df_size['sex']=='FEMALE']\n",
    "\n",
    "df_female['body_mass_g'].describe()"
   ]
  },
  {
   "cell_type": "markdown",
   "id": "68a7bf40",
   "metadata": {
    "papermill": {
     "duration": 0.02546,
     "end_time": "2022-04-07T23:21:21.532102",
     "exception": false,
     "start_time": "2022-04-07T23:21:21.506642",
     "status": "completed"
    },
    "tags": []
   },
   "source": [
    "### One can understand that there is a considerable difference between female and male body mass.\n",
    "\n",
    "About 25% of male penguins weighs more than the maximum of females penguins."
   ]
  },
  {
   "cell_type": "markdown",
   "id": "bfd0c4ed",
   "metadata": {
    "papermill": {
     "duration": 0.025451,
     "end_time": "2022-04-07T23:21:21.583547",
     "exception": false,
     "start_time": "2022-04-07T23:21:21.558096",
     "status": "completed"
    },
    "tags": []
   },
   "source": [
    "# Flipper length"
   ]
  },
  {
   "cell_type": "code",
   "execution_count": 13,
   "id": "59bcf945",
   "metadata": {
    "execution": {
     "iopub.execute_input": "2022-04-07T23:21:21.639771Z",
     "iopub.status.busy": "2022-04-07T23:21:21.639044Z",
     "iopub.status.idle": "2022-04-07T23:21:21.643110Z",
     "shell.execute_reply": "2022-04-07T23:21:21.643538Z",
     "shell.execute_reply.started": "2022-04-07T23:17:22.094013Z"
    },
    "papermill": {
     "duration": 0.033544,
     "end_time": "2022-04-07T23:21:21.643677",
     "exception": false,
     "start_time": "2022-04-07T23:21:21.610133",
     "status": "completed"
    },
    "tags": []
   },
   "outputs": [],
   "source": [
    "df_flipper = df_size.copy()"
   ]
  },
  {
   "cell_type": "markdown",
   "id": "cfcc8959",
   "metadata": {
    "papermill": {
     "duration": 0.025647,
     "end_time": "2022-04-07T23:21:21.695801",
     "exception": false,
     "start_time": "2022-04-07T23:21:21.670154",
     "status": "completed"
    },
    "tags": []
   },
   "source": [
    "### Let's understand the distribution of flipper length according to sex"
   ]
  },
  {
   "cell_type": "code",
   "execution_count": 14,
   "id": "ec28f6b4",
   "metadata": {
    "execution": {
     "iopub.execute_input": "2022-04-07T23:21:21.757566Z",
     "iopub.status.busy": "2022-04-07T23:21:21.750200Z",
     "iopub.status.idle": "2022-04-07T23:21:21.918872Z",
     "shell.execute_reply": "2022-04-07T23:21:21.918101Z",
     "shell.execute_reply.started": "2022-04-07T23:17:22.106330Z"
    },
    "papermill": {
     "duration": 0.197335,
     "end_time": "2022-04-07T23:21:21.918999",
     "exception": false,
     "start_time": "2022-04-07T23:21:21.721664",
     "status": "completed"
    },
    "tags": []
   },
   "outputs": [
    {
     "data": {
      "text/plain": [
       "<AxesSubplot:xlabel='sex', ylabel='flipper_length_mm'>"
      ]
     },
     "execution_count": 14,
     "metadata": {},
     "output_type": "execute_result"
    },
    {
     "data": {
      "image/png": "[encoded data removed]",
      "text/plain": [
       "<Figure size 432x288 with 1 Axes>"
      ]
     },
     "metadata": {},
     "output_type": "display_data"
    }
   ],
   "source": [
    "sex = ['MALE', 'FEMALE'] \n",
    "    \n",
    "# selecting rows based on condition \n",
    "df_sex_flipper = df_size.loc[df_size['sex'].isin(sex)] \n",
    "    \n",
    "sns.boxplot(x=df_sex_flipper[\"sex\"], y=df_sex_flipper[\"flipper_length_mm\"],\n",
    "             palette=[\"m\", \"g\"])"
   ]
  },
  {
   "cell_type": "markdown",
   "id": "d883cafd",
   "metadata": {
    "papermill": {
     "duration": 0.028275,
     "end_time": "2022-04-07T23:21:21.974775",
     "exception": false,
     "start_time": "2022-04-07T23:21:21.946500",
     "status": "completed"
    },
    "tags": []
   },
   "source": [
    "# Body mass per specie"
   ]
  },
  {
   "cell_type": "code",
   "execution_count": 15,
   "id": "e34b7a80",
   "metadata": {
    "execution": {
     "iopub.execute_input": "2022-04-07T23:21:22.034475Z",
     "iopub.status.busy": "2022-04-07T23:21:22.032906Z",
     "iopub.status.idle": "2022-04-07T23:21:22.038199Z",
     "shell.execute_reply": "2022-04-07T23:21:22.038668Z",
     "shell.execute_reply.started": "2022-04-07T23:17:22.321580Z"
    },
    "papermill": {
     "duration": 0.035932,
     "end_time": "2022-04-07T23:21:22.038815",
     "exception": false,
     "start_time": "2022-04-07T23:21:22.002883",
     "status": "completed"
    },
    "tags": []
   },
   "outputs": [],
   "source": [
    "df_species = df_size.copy()"
   ]
  },
  {
   "cell_type": "code",
   "execution_count": 16,
   "id": "05cd9186",
   "metadata": {
    "execution": {
     "iopub.execute_input": "2022-04-07T23:21:22.095859Z",
     "iopub.status.busy": "2022-04-07T23:21:22.095119Z",
     "iopub.status.idle": "2022-04-07T23:21:22.284178Z",
     "shell.execute_reply": "2022-04-07T23:21:22.284728Z",
     "shell.execute_reply.started": "2022-04-07T23:18:18.297183Z"
    },
    "papermill": {
     "duration": 0.219456,
     "end_time": "2022-04-07T23:21:22.284893",
     "exception": false,
     "start_time": "2022-04-07T23:21:22.065437",
     "status": "completed"
    },
    "tags": []
   },
   "outputs": [
    {
     "data": {
      "text/plain": [
       "<AxesSubplot:xlabel='species', ylabel='body_mass_g'>"
      ]
     },
     "execution_count": 16,
     "metadata": {},
     "output_type": "execute_result"
    },
    {
     "data": {
      "image/png": "[encoded data removed]",
      "text/plain": [
       "<Figure size 432x288 with 1 Axes>"
      ]
     },
     "metadata": {},
     "output_type": "display_data"
    }
   ],
   "source": [
    "sex = ['MALE', 'FEMALE'] \n",
    "    \n",
    "# selecting rows based on condition \n",
    "df_sex_flipper = df_size.loc[df_size['sex'].isin(sex)] \n",
    "    \n",
    "sns.boxplot(x=df_sex_flipper[\"species\"], y=df_sex_flipper[\"body_mass_g\"],\n",
    "             palette=[\"m\", \"g\"])"
   ]
  }
 ],
 "metadata": {
  "kernelspec": {
   "display_name": "Python 3",
   "language": "python",
   "name": "python3"
  },
  "language_info": {
   "codemirror_mode": {
    "name": "ipython",
    "version": 3
   },
   "file_extension": ".py",
   "mimetype": "text/x-python",
   "name": "python",
   "nbconvert_exporter": "python",
   "pygments_lexer": "ipython3",
   "version": "3.7.12"
  },
  "papermill": {
   "default_parameters": {},
   "duration": 18.664324,
   "end_time": "2022-04-07T23:21:23.237320",
   "environment_variables": {},
   "exception": null,
   "input_path": "__notebook__.ipynb",
   "output_path": "__notebook__.ipynb",
   "parameters": {},
   "start_time": "2022-04-07T23:21:04.572996",
   "version": "2.3.3"
  }
 },
 "nbformat": 4,
 "nbformat_minor": 5
}
